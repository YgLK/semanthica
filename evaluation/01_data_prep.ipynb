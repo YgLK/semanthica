{
 "cells": [
  {
   "cell_type": "code",
   "execution_count": 1,
   "outputs": [],
   "source": [
    "import pandas as pd"
   ],
   "metadata": {
    "collapsed": false,
    "ExecuteTime": {
     "end_time": "2023-12-26T12:00:56.350985400Z",
     "start_time": "2023-12-26T12:00:55.721898900Z"
    }
   },
   "id": "9a4c7d0ac025a064"
  },
  {
   "cell_type": "code",
   "execution_count": 2,
   "outputs": [],
   "source": [
    "# get search queries\n",
    "query_df = pd.read_csv(\"WANDS/dataset/query.csv\", sep='\\t')\n",
    "# get products\n",
    "product_df = pd.read_csv(\"WANDS/dataset/product.csv\", sep='\\t')\n",
    "# get manually labeled ground truth labels\n",
    "label_df = pd.read_csv(\"WANDS/dataset/label.csv\", sep='\\t')"
   ],
   "metadata": {
    "collapsed": false,
    "ExecuteTime": {
     "end_time": "2023-12-26T12:00:57.753762100Z",
     "start_time": "2023-12-26T12:00:56.350985400Z"
    }
   },
   "id": "9fa9366090a16291"
  },
  {
   "cell_type": "markdown",
   "source": [
    "## Clean the data"
   ],
   "metadata": {
    "collapsed": false
   },
   "id": "3c037f308c56dd12"
  },
  {
   "cell_type": "code",
   "execution_count": 3,
   "outputs": [
    {
     "data": {
      "text/plain": "   query_id                      query               query_class\n0         0                salon chair            Massage Chairs\n1         1         smart coffee table  Coffee & Cocktail Tables\n2         2                   dinosaur           Kids Wall Décor\n3         3          turquoise pillows            Accent Pillows\n4         4  chair and a half recliner                 Recliners",
      "text/html": "<div>\n<style scoped>\n    .dataframe tbody tr th:only-of-type {\n        vertical-align: middle;\n    }\n\n    .dataframe tbody tr th {\n        vertical-align: top;\n    }\n\n    .dataframe thead th {\n        text-align: right;\n    }\n</style>\n<table border=\"1\" class=\"dataframe\">\n  <thead>\n    <tr style=\"text-align: right;\">\n      <th></th>\n      <th>query_id</th>\n      <th>query</th>\n      <th>query_class</th>\n    </tr>\n  </thead>\n  <tbody>\n    <tr>\n      <th>0</th>\n      <td>0</td>\n      <td>salon chair</td>\n      <td>Massage Chairs</td>\n    </tr>\n    <tr>\n      <th>1</th>\n      <td>1</td>\n      <td>smart coffee table</td>\n      <td>Coffee &amp; Cocktail Tables</td>\n    </tr>\n    <tr>\n      <th>2</th>\n      <td>2</td>\n      <td>dinosaur</td>\n      <td>Kids Wall Décor</td>\n    </tr>\n    <tr>\n      <th>3</th>\n      <td>3</td>\n      <td>turquoise pillows</td>\n      <td>Accent Pillows</td>\n    </tr>\n    <tr>\n      <th>4</th>\n      <td>4</td>\n      <td>chair and a half recliner</td>\n      <td>Recliners</td>\n    </tr>\n  </tbody>\n</table>\n</div>"
     },
     "execution_count": 3,
     "metadata": {},
     "output_type": "execute_result"
    }
   ],
   "source": [
    "query_df.head()"
   ],
   "metadata": {
    "collapsed": false,
    "ExecuteTime": {
     "end_time": "2023-12-26T12:05:33.360635900Z",
     "start_time": "2023-12-26T12:05:33.345011600Z"
    }
   },
   "id": "269527870765314f"
  },
  {
   "cell_type": "code",
   "execution_count": 54,
   "outputs": [
    {
     "data": {
      "text/plain": "       product_id                                       product_name  \\\n27268       27268  0.8 '' x 0.8 '' porcelain penny round mosaic w...   \n39798       39798                              1 - drawer nightstand   \n33969       33969                       1 1/2 '' diameter round knob   \n33433       33433                    1 1/4 '' diameter mushroom knob   \n23389       23389                    1 3/8 '' diameter mushroom knob   \n...           ...                                                ...   \n7208         7208                    wilfredo end table with storage   \n31447       31447                              wrington platform bed   \n17901       17901                                       writing desk   \n12706       12706  yardmaster2 white portable folding frame proje...   \n18584       18584                                        zeyno chair   \n\n                  product_class  \\\n27268         Floor & Wall Tile   \n39798               Nightstands   \n33969  Cabinet and Drawer Knobs   \n33433  Cabinet and Drawer Knobs   \n23389  Cabinet and Drawer Knobs   \n...                         ...   \n7208                 End Tables   \n31447                      Beds   \n17901                Teen Desks   \n12706         Projector Screens   \n18584             Dining Chairs   \n\n                                      category hierarchy  \\\n27268  Home Improvement / Flooring, Walls & Ceiling /...   \n39798        Furniture / Bedroom Furniture / Nightstands   \n33969  Home Improvement / Hardware / Cabinet Hardware...   \n33433  Home Improvement / Hardware / Cabinet Hardware...   \n23389  Home Improvement / Hardware / Cabinet Hardware...   \n...                                                  ...   \n7208   Furniture / Living Room Furniture / Coffee Tab...   \n31447  Furniture / Bedroom Furniture / Beds & Headboa...   \n17901  Baby & Kids / Teen Bedroom Furniture / Teen Desks   \n12706  Furniture / Living Room Furniture / TV Stands ...   \n18584  Furniture / Kitchen & Dining Furniture / Dinin...   \n\n                                     product_description  \\\n27268  this product features a glossy fabric look des...   \n39798  keep your side table contemporary with this si...   \n33969  this bubble round knob is drawer pull , cabine...   \n33433  the stone mill hardware sidney 1.25 '' round k...   \n23389  inspired by minimal design elements , this mus...   \n...                                                  ...   \n7208   if you are looking for an end table that will ...   \n31447  transform your personal space with the classic...   \n17901  the desktop uses a first-grade material , a la...   \n12706  yardmaster2 wraithveil dual series portable pr...   \n18584  this is a contemporary chair with a comfortabl...   \n\n                                        product_features  rating_count  \\\n27268  craftsmanshiptype : handmade|material : porcel...          26.0   \n39798  dswoodtone : espresso wood|overallheight-topto...        1426.0   \n33969  style : coastal|primarymaterialdetails : steel...         129.0   \n33433  resistancetype : corrosion resistant|knobdiame...          89.0   \n23389  materialdetails : zinc|overallproductweight:0....          79.0   \n...                                                  ...           ...   \n7208   estimatedtimetosetup:30|estimatedtimetoassembl...         252.0   \n31447  framematerial : manufactured wood|dsprimarypro...         258.0   \n17901  overallheight-toptobottom:29.9|warrantylength:...           9.0   \n12706  overallproductweight:28.9|screentension : tens...           6.0   \n18584  overallheight-toptobottom:32|estimatedtimetose...           NaN   \n\n       average_rating  review_count  \n27268             5.0          25.0  \n39798             4.5         908.0  \n33969             4.5          85.0  \n33433             4.5          55.0  \n23389             4.5          55.0  \n...               ...           ...  \n7208              4.5         205.0  \n31447             4.5         168.0  \n17901             2.5           8.0  \n12706             5.0           5.0  \n18584             NaN           NaN  \n\n[417 rows x 9 columns]",
      "text/html": "<div>\n<style scoped>\n    .dataframe tbody tr th:only-of-type {\n        vertical-align: middle;\n    }\n\n    .dataframe tbody tr th {\n        vertical-align: top;\n    }\n\n    .dataframe thead th {\n        text-align: right;\n    }\n</style>\n<table border=\"1\" class=\"dataframe\">\n  <thead>\n    <tr style=\"text-align: right;\">\n      <th></th>\n      <th>product_id</th>\n      <th>product_name</th>\n      <th>product_class</th>\n      <th>category hierarchy</th>\n      <th>product_description</th>\n      <th>product_features</th>\n      <th>rating_count</th>\n      <th>average_rating</th>\n      <th>review_count</th>\n    </tr>\n  </thead>\n  <tbody>\n    <tr>\n      <th>27268</th>\n      <td>27268</td>\n      <td>0.8 '' x 0.8 '' porcelain penny round mosaic w...</td>\n      <td>Floor &amp; Wall Tile</td>\n      <td>Home Improvement / Flooring, Walls &amp; Ceiling /...</td>\n      <td>this product features a glossy fabric look des...</td>\n      <td>craftsmanshiptype : handmade|material : porcel...</td>\n      <td>26.0</td>\n      <td>5.0</td>\n      <td>25.0</td>\n    </tr>\n    <tr>\n      <th>39798</th>\n      <td>39798</td>\n      <td>1 - drawer nightstand</td>\n      <td>Nightstands</td>\n      <td>Furniture / Bedroom Furniture / Nightstands</td>\n      <td>keep your side table contemporary with this si...</td>\n      <td>dswoodtone : espresso wood|overallheight-topto...</td>\n      <td>1426.0</td>\n      <td>4.5</td>\n      <td>908.0</td>\n    </tr>\n    <tr>\n      <th>33969</th>\n      <td>33969</td>\n      <td>1 1/2 '' diameter round knob</td>\n      <td>Cabinet and Drawer Knobs</td>\n      <td>Home Improvement / Hardware / Cabinet Hardware...</td>\n      <td>this bubble round knob is drawer pull , cabine...</td>\n      <td>style : coastal|primarymaterialdetails : steel...</td>\n      <td>129.0</td>\n      <td>4.5</td>\n      <td>85.0</td>\n    </tr>\n    <tr>\n      <th>33433</th>\n      <td>33433</td>\n      <td>1 1/4 '' diameter mushroom knob</td>\n      <td>Cabinet and Drawer Knobs</td>\n      <td>Home Improvement / Hardware / Cabinet Hardware...</td>\n      <td>the stone mill hardware sidney 1.25 '' round k...</td>\n      <td>resistancetype : corrosion resistant|knobdiame...</td>\n      <td>89.0</td>\n      <td>4.5</td>\n      <td>55.0</td>\n    </tr>\n    <tr>\n      <th>23389</th>\n      <td>23389</td>\n      <td>1 3/8 '' diameter mushroom knob</td>\n      <td>Cabinet and Drawer Knobs</td>\n      <td>Home Improvement / Hardware / Cabinet Hardware...</td>\n      <td>inspired by minimal design elements , this mus...</td>\n      <td>materialdetails : zinc|overallproductweight:0....</td>\n      <td>79.0</td>\n      <td>4.5</td>\n      <td>55.0</td>\n    </tr>\n    <tr>\n      <th>...</th>\n      <td>...</td>\n      <td>...</td>\n      <td>...</td>\n      <td>...</td>\n      <td>...</td>\n      <td>...</td>\n      <td>...</td>\n      <td>...</td>\n      <td>...</td>\n    </tr>\n    <tr>\n      <th>7208</th>\n      <td>7208</td>\n      <td>wilfredo end table with storage</td>\n      <td>End Tables</td>\n      <td>Furniture / Living Room Furniture / Coffee Tab...</td>\n      <td>if you are looking for an end table that will ...</td>\n      <td>estimatedtimetosetup:30|estimatedtimetoassembl...</td>\n      <td>252.0</td>\n      <td>4.5</td>\n      <td>205.0</td>\n    </tr>\n    <tr>\n      <th>31447</th>\n      <td>31447</td>\n      <td>wrington platform bed</td>\n      <td>Beds</td>\n      <td>Furniture / Bedroom Furniture / Beds &amp; Headboa...</td>\n      <td>transform your personal space with the classic...</td>\n      <td>framematerial : manufactured wood|dsprimarypro...</td>\n      <td>258.0</td>\n      <td>4.5</td>\n      <td>168.0</td>\n    </tr>\n    <tr>\n      <th>17901</th>\n      <td>17901</td>\n      <td>writing desk</td>\n      <td>Teen Desks</td>\n      <td>Baby &amp; Kids / Teen Bedroom Furniture / Teen Desks</td>\n      <td>the desktop uses a first-grade material , a la...</td>\n      <td>overallheight-toptobottom:29.9|warrantylength:...</td>\n      <td>9.0</td>\n      <td>2.5</td>\n      <td>8.0</td>\n    </tr>\n    <tr>\n      <th>12706</th>\n      <td>12706</td>\n      <td>yardmaster2 white portable folding frame proje...</td>\n      <td>Projector Screens</td>\n      <td>Furniture / Living Room Furniture / TV Stands ...</td>\n      <td>yardmaster2 wraithveil dual series portable pr...</td>\n      <td>overallproductweight:28.9|screentension : tens...</td>\n      <td>6.0</td>\n      <td>5.0</td>\n      <td>5.0</td>\n    </tr>\n    <tr>\n      <th>18584</th>\n      <td>18584</td>\n      <td>zeyno chair</td>\n      <td>Dining Chairs</td>\n      <td>Furniture / Kitchen &amp; Dining Furniture / Dinin...</td>\n      <td>this is a contemporary chair with a comfortabl...</td>\n      <td>overallheight-toptobottom:32|estimatedtimetose...</td>\n      <td>NaN</td>\n      <td>NaN</td>\n      <td>NaN</td>\n    </tr>\n  </tbody>\n</table>\n<p>417 rows × 9 columns</p>\n</div>"
     },
     "execution_count": 54,
     "metadata": {},
     "output_type": "execute_result"
    }
   ],
   "source": [
    "product_df[product_df[\"product_name\"].duplicated()].sort_values(by=\"product_name\")"
   ],
   "metadata": {
    "collapsed": false,
    "ExecuteTime": {
     "end_time": "2023-12-23T23:53:53.307033100Z",
     "start_time": "2023-12-23T23:53:53.265703700Z"
    }
   },
   "id": "d3db57b92cf6ae8"
  },
  {
   "cell_type": "code",
   "execution_count": 55,
   "outputs": [],
   "source": [
    "# drop duplicated product names\n",
    "product_df = product_df.drop_duplicates(subset=[\"product_name\"], keep=\"first\")"
   ],
   "metadata": {
    "collapsed": false,
    "ExecuteTime": {
     "end_time": "2023-12-23T23:54:14.280440100Z",
     "start_time": "2023-12-23T23:54:14.245794300Z"
    }
   },
   "id": "cce7c0a889b027eb"
  },
  {
   "cell_type": "code",
   "execution_count": 56,
   "outputs": [
    {
     "name": "stdout",
     "output_type": "stream",
     "text": [
      "42577\n",
      "39753\n"
     ]
    }
   ],
   "source": [
    "# drop products without product class\n",
    "print(product_df.shape[0])\n",
    "product_df = product_df.dropna(subset=[\"product_class\"])\n",
    "print(product_df.shape[0])"
   ],
   "metadata": {
    "collapsed": false,
    "ExecuteTime": {
     "end_time": "2023-12-23T23:54:53.040782700Z",
     "start_time": "2023-12-23T23:54:53.002010500Z"
    }
   },
   "id": "a2e32f3061b00e4"
  },
  {
   "cell_type": "code",
   "execution_count": 59,
   "outputs": [
    {
     "name": "stdout",
     "output_type": "stream",
     "text": [
      "233448\n",
      "212484\n"
     ]
    }
   ],
   "source": [
    "# keep only those labels where product id is in product df\n",
    "print(label_df.shape[0])\n",
    "label_df = label_df[label_df[\"product_id\"].isin(product_df[\"product_id\"])]\n",
    "print(label_df.shape[0])"
   ],
   "metadata": {
    "collapsed": false,
    "ExecuteTime": {
     "end_time": "2023-12-23T23:57:46.887298700Z",
     "start_time": "2023-12-23T23:57:46.847795300Z"
    }
   },
   "id": "b3ede3eba37242bf"
  },
  {
   "cell_type": "code",
   "execution_count": 65,
   "outputs": [
    {
     "name": "stdout",
     "output_type": "stream",
     "text": [
      "480\n",
      "12\n"
     ]
    }
   ],
   "source": [
    "# Intersect query_df query_class and product_df product_class\n",
    "print(query_df.shape[0])\n",
    "test = query_df[~query_df[\"query_class\"].isin(product_df[\"product_class\"])]\n",
    "print(test.shape[0])"
   ],
   "metadata": {
    "collapsed": false,
    "ExecuteTime": {
     "end_time": "2023-12-24T00:00:25.569732200Z",
     "start_time": "2023-12-24T00:00:25.564688700Z"
    }
   },
   "id": "73e4a14195b6774"
  },
  {
   "cell_type": "code",
   "execution_count": 68,
   "outputs": [
    {
     "name": "stdout",
     "output_type": "stream",
     "text": [
      "480\n",
      "474\n"
     ]
    }
   ],
   "source": [
    "# drop NaN query class\n",
    "print(query_df.shape[0])\n",
    "query_df = query_df.dropna(subset=[\"query_class\"])\n",
    "print(query_df.shape[0])"
   ],
   "metadata": {
    "collapsed": false,
    "ExecuteTime": {
     "end_time": "2023-12-24T00:01:02.768998500Z",
     "start_time": "2023-12-24T00:01:02.754349100Z"
    }
   },
   "id": "e3ebe14a4e4edd3"
  },
  {
   "cell_type": "code",
   "execution_count": 47,
   "outputs": [
    {
     "name": "stdout",
     "output_type": "stream",
     "text": [
      "<class 'pandas.core.frame.DataFrame'>\n",
      "RangeIndex: 42994 entries, 0 to 42993\n",
      "Data columns (total 9 columns):\n",
      " #   Column               Non-Null Count  Dtype  \n",
      "---  ------               --------------  -----  \n",
      " 0   product_id           42994 non-null  int64  \n",
      " 1   product_name         42994 non-null  object \n",
      " 2   product_class        40142 non-null  object \n",
      " 3   category hierarchy   41438 non-null  object \n",
      " 4   product_description  36986 non-null  object \n",
      " 5   product_features     42994 non-null  object \n",
      " 6   rating_count         33542 non-null  float64\n",
      " 7   average_rating       33542 non-null  float64\n",
      " 8   review_count         33542 non-null  float64\n",
      "dtypes: float64(3), int64(1), object(5)\n",
      "memory usage: 3.0+ MB\n"
     ]
    }
   ],
   "source": [
    "product_df.info()"
   ],
   "metadata": {
    "collapsed": false,
    "ExecuteTime": {
     "end_time": "2023-12-23T23:51:38.757471100Z",
     "start_time": "2023-12-23T23:51:38.727605200Z"
    }
   },
   "id": "fd2e05387b1fbd3d"
  },
  {
   "cell_type": "code",
   "execution_count": 51,
   "outputs": [
    {
     "data": {
      "text/plain": "2852"
     },
     "execution_count": 51,
     "metadata": {},
     "output_type": "execute_result"
    }
   ],
   "source": [
    "product_df[\"product_class\"].isna().sum()"
   ],
   "metadata": {
    "collapsed": false,
    "ExecuteTime": {
     "end_time": "2023-12-23T23:53:14.359078800Z",
     "start_time": "2023-12-23T23:53:14.323414200Z"
    }
   },
   "id": "b65013dce662c31f"
  },
  {
   "cell_type": "code",
   "execution_count": 70,
   "outputs": [
    {
     "name": "stdout",
     "output_type": "stream",
     "text": [
      "<class 'pandas.core.frame.DataFrame'>\n",
      "Index: 39753 entries, 0 to 42993\n",
      "Data columns (total 9 columns):\n",
      " #   Column               Non-Null Count  Dtype  \n",
      "---  ------               --------------  -----  \n",
      " 0   product_id           39753 non-null  int64  \n",
      " 1   product_name         39753 non-null  object \n",
      " 2   product_class        39753 non-null  object \n",
      " 3   category hierarchy   38390 non-null  object \n",
      " 4   product_description  34228 non-null  object \n",
      " 5   product_features     39753 non-null  object \n",
      " 6   rating_count         31409 non-null  float64\n",
      " 7   average_rating       31409 non-null  float64\n",
      " 8   review_count         31409 non-null  float64\n",
      "dtypes: float64(3), int64(1), object(5)\n",
      "memory usage: 3.0+ MB\n"
     ]
    }
   ],
   "source": [
    "product_df.info()"
   ],
   "metadata": {
    "collapsed": false,
    "ExecuteTime": {
     "end_time": "2023-12-24T00:01:59.789931200Z",
     "start_time": "2023-12-24T00:01:59.767154200Z"
    }
   },
   "id": "6c03ad1e74f45a84"
  },
  {
   "cell_type": "code",
   "execution_count": 74,
   "outputs": [
    {
     "name": "stdout",
     "output_type": "stream",
     "text": [
      "<class 'pandas.core.frame.DataFrame'>\n",
      "Index: 212484 entries, 0 to 233447\n",
      "Data columns (total 4 columns):\n",
      " #   Column      Non-Null Count   Dtype \n",
      "---  ------      --------------   ----- \n",
      " 0   id          212484 non-null  int64 \n",
      " 1   query_id    212484 non-null  int64 \n",
      " 2   product_id  212484 non-null  int64 \n",
      " 3   label       212484 non-null  object\n",
      "dtypes: int64(3), object(1)\n",
      "memory usage: 8.1+ MB\n"
     ]
    }
   ],
   "source": [
    "label_df.info()"
   ],
   "metadata": {
    "collapsed": false,
    "ExecuteTime": {
     "end_time": "2023-12-24T00:03:15.530901300Z",
     "start_time": "2023-12-24T00:03:15.489748600Z"
    }
   },
   "id": "4a59bbd1d0384a47"
  },
  {
   "cell_type": "code",
   "execution_count": 75,
   "outputs": [
    {
     "name": "stdout",
     "output_type": "stream",
     "text": [
      "<class 'pandas.core.frame.DataFrame'>\n",
      "Index: 474 entries, 0 to 479\n",
      "Data columns (total 3 columns):\n",
      " #   Column       Non-Null Count  Dtype \n",
      "---  ------       --------------  ----- \n",
      " 0   query_id     474 non-null    int64 \n",
      " 1   query        474 non-null    object\n",
      " 2   query_class  474 non-null    object\n",
      "dtypes: int64(1), object(2)\n",
      "memory usage: 14.8+ KB\n"
     ]
    }
   ],
   "source": [
    "query_df.info()"
   ],
   "metadata": {
    "collapsed": false,
    "ExecuteTime": {
     "end_time": "2023-12-24T00:03:19.817927100Z",
     "start_time": "2023-12-24T00:03:19.770454300Z"
    }
   },
   "id": "ff621586a18a8743"
  },
  {
   "cell_type": "code",
   "execution_count": 77,
   "outputs": [],
   "source": [
    "# save cleaned data\n",
    "query_df.to_csv(\"data_eval_prepared/query_cleaned.csv\", sep='\\t', index=False)\n",
    "product_df.to_csv(\"data_eval_prepared/product_cleaned.csv\", sep='\\t', index=False)\n",
    "label_df.to_csv(\"data_eval_prepared/label_cleaned.csv\", sep='\\t', index=False)"
   ],
   "metadata": {
    "collapsed": false,
    "ExecuteTime": {
     "end_time": "2023-12-24T00:04:41.289944600Z",
     "start_time": "2023-12-24T00:04:38.291950100Z"
    }
   },
   "id": "18a3669a15f2f97a"
  },
  {
   "cell_type": "code",
   "execution_count": 9,
   "outputs": [
    {
     "data": {
      "text/plain": "label\nPartial       146633\nIrrelevant     61201\nExact          25614\nName: count, dtype: int64"
     },
     "execution_count": 9,
     "metadata": {},
     "output_type": "execute_result"
    }
   ],
   "source": [
    "label_df[\"label\"].value_counts()"
   ],
   "metadata": {
    "collapsed": false,
    "ExecuteTime": {
     "end_time": "2023-12-23T20:43:59.886446700Z",
     "start_time": "2023-12-23T20:43:59.865114400Z"
    }
   },
   "id": "1e979b3608ed56ec"
  },
  {
   "cell_type": "code",
   "execution_count": 11,
   "outputs": [
    {
     "data": {
      "text/plain": "query_id\n123    4329\n446    4326\n26     3748\n434    3530\n131    3479\n       ... \n465       2\n462       2\n348       2\n179       2\n366       1\nName: count, Length: 480, dtype: int64"
     },
     "execution_count": 11,
     "metadata": {},
     "output_type": "execute_result"
    }
   ],
   "source": [
    "label_df[\"query_id\"].value_counts()"
   ],
   "metadata": {
    "collapsed": false,
    "ExecuteTime": {
     "end_time": "2023-12-23T21:05:04.492240400Z",
     "start_time": "2023-12-23T21:05:04.458546600Z"
    }
   },
   "id": "dcde267914ba08d2"
  },
  {
   "cell_type": "code",
   "execution_count": 12,
   "outputs": [
    {
     "data": {
      "text/plain": "{'status': 'available'}"
     },
     "execution_count": 12,
     "metadata": {},
     "output_type": "execute_result"
    }
   ],
   "source": [
    "import meilisearch\n",
    "\n",
    "client = meilisearch.Client('http://localhost:7700', 'masterKey')\n",
    "\n",
    "client.health()"
   ],
   "metadata": {
    "collapsed": false,
    "ExecuteTime": {
     "end_time": "2023-12-23T22:59:27.079472600Z",
     "start_time": "2023-12-23T22:59:26.413327700Z"
    }
   },
   "id": "6709f7567eb947db"
  },
  {
   "cell_type": "code",
   "execution_count": null,
   "outputs": [],
   "source": [
    "client.create_index('items')"
   ],
   "metadata": {
    "collapsed": false
   },
   "id": "b55fc4fdc620776b"
  },
  {
   "cell_type": "code",
   "execution_count": 13,
   "outputs": [
    {
     "data": {
      "text/plain": "{'results': [<meilisearch.index.Index at 0x1d3d979a700>,\n  <meilisearch.index.Index at 0x1d3d979afa0>,\n  <meilisearch.index.Index at 0x1d3d9374280>],\n 'offset': 0,\n 'limit': 3,\n 'total': 3}"
     },
     "execution_count": 13,
     "metadata": {},
     "output_type": "execute_result"
    }
   ],
   "source": [
    "client.get_indexes({'limit': 3})"
   ],
   "metadata": {
    "collapsed": false,
    "ExecuteTime": {
     "end_time": "2023-12-23T23:03:44.797967400Z",
     "start_time": "2023-12-23T23:03:44.769364300Z"
    }
   },
   "id": "a7dd28c57ee7a12"
  },
  {
   "cell_type": "code",
   "execution_count": 81,
   "outputs": [
    {
     "data": {
      "text/plain": "TaskInfo(task_uid=581, index_uid='items_eval', status='enqueued', type='indexDeletion', enqueued_at=datetime.datetime(2023, 12, 24, 0, 11, 37, 616904))"
     },
     "execution_count": 81,
     "metadata": {},
     "output_type": "execute_result"
    }
   ],
   "source": [
    "hits = client.delete_index(\"items_eval\")\n",
    "hits"
   ],
   "metadata": {
    "collapsed": false,
    "ExecuteTime": {
     "end_time": "2023-12-24T00:11:37.650223500Z",
     "start_time": "2023-12-24T00:11:37.609702100Z"
    }
   },
   "id": "2e39f51f3be96af"
  }
 ],
 "metadata": {
  "kernelspec": {
   "display_name": "Python 3",
   "language": "python",
   "name": "python3"
  },
  "language_info": {
   "codemirror_mode": {
    "name": "ipython",
    "version": 2
   },
   "file_extension": ".py",
   "mimetype": "text/x-python",
   "name": "python",
   "nbconvert_exporter": "python",
   "pygments_lexer": "ipython2",
   "version": "2.7.6"
  }
 },
 "nbformat": 4,
 "nbformat_minor": 5
}
