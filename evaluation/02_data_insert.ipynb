{
 "cells": [
  {
   "cell_type": "code",
   "execution_count": 1,
   "outputs": [],
   "source": [
    "import numpy as np\n",
    "import pandas as pd\n",
    "from dotenv import load_dotenv\n",
    "\n",
    "load_dotenv(r\".\\backend\\.env\")\n",
    "\n",
    "# add to path\n",
    "import sys\n",
    "sys.path.append(r\".\\backend\")\n",
    "\n",
    "%load_ext autoreload\n",
    "%autoreload 2"
   ],
   "metadata": {
    "collapsed": false,
    "ExecuteTime": {
     "end_time": "2023-12-26T20:23:26.141617900Z",
     "start_time": "2023-12-26T20:23:25.349776400Z"
    }
   },
   "id": "9a4c7d0ac025a064"
  },
  {
   "cell_type": "code",
   "execution_count": 4,
   "outputs": [],
   "source": [
    "from app import models, schemas\n",
    "from app.database import get_db\n",
    "from app.semantic_search import vector_client, QDRANT_COLLECTION_NAME\n",
    "from app.semantic_search.embedding import TextEmbeddingGenerator\n",
    "\n",
    "\n",
    "# ITEM MODEL:\n",
    "#     name: str\n",
    "#     description: str\n",
    "#     main_category: str\n",
    "#     sub_category: str\n",
    "#     image_url: str\n",
    "#     stock_quantity: int\n",
    "#     price: float\n",
    "\n",
    "db = get_db()\n",
    "\n",
    "def add_item_to_db(item: dict):\n",
    "    new_item = models.Item(**item)\n",
    "    db.add(new_item)\n",
    "    db.commit()\n",
    "    db.refresh(new_item)\n",
    "\n",
    "    # add item to  vector db\n",
    "    new_item_name_descr = new_item.name + \" \" + new_item.description\n",
    "    _ = vector_client.index_item(QDRANT_COLLECTION_NAME, new_item.id, new_item.name, new_item_name_descr, new_item.image_url)"
   ],
   "metadata": {
    "collapsed": false,
    "ExecuteTime": {
     "end_time": "2023-12-26T20:24:11.746764100Z",
     "start_time": "2023-12-26T20:24:11.221048700Z"
    }
   },
   "id": "72ba73aff460870b"
  },
  {
   "cell_type": "code",
   "execution_count": 17,
   "outputs": [],
   "source": [
    "from tqdm import tqdm\n",
    "\n",
    "tqdm.pandas(desc=\"Adding products to the database...\")\n",
    "\n",
    "\n",
    "def add_product(row: pd.Series):\n",
    "    \"\"\"Add product directly to the database.\"\"\"\n",
    "    item = {\n",
    "        \"name\": row[\"product_name\"],\n",
    "        \"description\": row[\"product_description\"],\n",
    "        \"main_category\": row[\"product_class\"],\n",
    "        \"sub_category\": \"\",\n",
    "        \"image_url\": \"https://cdn-icons-png.flaticon.com/256/8787/8787137.png\",\n",
    "        \"stock_quantity\": 5,\n",
    "        \"price\": 5.99\n",
    "    }\n",
    "\n",
    "    add_item_to_db(item)"
   ],
   "metadata": {
    "collapsed": false,
    "ExecuteTime": {
     "end_time": "2023-12-26T20:21:20.536148100Z",
     "start_time": "2023-12-26T20:21:20.132222200Z"
    }
   },
   "id": "d24404c315e76d85"
  },
  {
   "cell_type": "markdown",
   "source": [
    "## Add data to db"
   ],
   "metadata": {
    "collapsed": false
   },
   "id": "3c037f308c56dd12"
  },
  {
   "cell_type": "code",
   "execution_count": 4,
   "outputs": [],
   "source": [
    "# get products\n",
    "product_df = pd.read_csv(\"data_eval_prepared/product_cleaned.csv\", sep='\\t')"
   ],
   "metadata": {
    "collapsed": false,
    "ExecuteTime": {
     "end_time": "2023-12-26T14:35:32.079089500Z",
     "start_time": "2023-12-26T14:35:30.652456400Z"
    }
   },
   "id": "9fa9366090a16291"
  },
  {
   "cell_type": "code",
   "execution_count": 5,
   "outputs": [
    {
     "name": "stderr",
     "output_type": "stream",
     "text": [
      "Adding products to the database...: 100%|██████████| 39753/39753 [56:32<00:00, 11.72it/s]  \n"
     ]
    },
    {
     "data": {
      "text/plain": "0        None\n1        None\n2        None\n3        None\n4        None\n         ... \n39748    None\n39749    None\n39750    None\n39751    None\n39752    None\nLength: 39753, dtype: object"
     },
     "execution_count": 5,
     "metadata": {},
     "output_type": "execute_result"
    }
   ],
   "source": [
    "from concurrent.futures import ProcessPoolExecutor\n",
    "\n",
    "def process_dataframe_chunk(chunk):\n",
    "    chunk.progress_apply(add_product, axis=1)\n",
    "\n",
    "\n",
    "df_chunks = np.array_split(product_df, 6)  # Split the dataframe into 6 chunks\n",
    "\n",
    "with ProcessPoolExecutor(max_workers=6) as executor:\n",
    "    executor.map(process_dataframe_chunk, df_chunks)"
   ],
   "metadata": {
    "collapsed": false,
    "ExecuteTime": {
     "end_time": "2023-12-26T15:32:04.888093Z",
     "start_time": "2023-12-26T14:35:32.081888500Z"
    }
   },
   "id": "13073a4806bcff8a"
  },
  {
   "cell_type": "code",
   "execution_count": 10,
   "outputs": [],
   "source": [
    "query_df = pd.read_csv(\"data_eval_prepared/query_cleaned.csv\", sep='\\t')\n",
    "labels_df = pd.read_csv(\"data_eval_prepared/label_cleaned.csv\", sep='\\t')\n",
    "product_df = pd.read_csv(\"data_eval_prepared/product_cleaned.csv\", sep='\\t')"
   ],
   "metadata": {
    "collapsed": false,
    "ExecuteTime": {
     "end_time": "2023-12-26T20:26:46.390826900Z",
     "start_time": "2023-12-26T20:26:43.781319600Z"
    }
   },
   "id": "4ad96e08d83a3c4d"
  },
  {
   "cell_type": "code",
   "execution_count": 5,
   "outputs": [],
   "source": [
    "product_df[\"name_descr\"] = product_df[\"product_name\"] + \" \" + product_df[\"product_description\"]"
   ],
   "metadata": {
    "collapsed": false,
    "ExecuteTime": {
     "end_time": "2023-12-26T20:14:53.128147300Z",
     "start_time": "2023-12-26T20:14:53.084057600Z"
    }
   },
   "id": "1759240a466d1b3b"
  },
  {
   "cell_type": "code",
   "execution_count": 10,
   "outputs": [
    {
     "data": {
      "text/plain": "<Axes: >"
     },
     "execution_count": 10,
     "metadata": {},
     "output_type": "execute_result"
    },
    {
     "data": {
      "text/plain": "<Figure size 640x480 with 1 Axes>",
      "image/png": "[encoded data removed]"
     },
     "metadata": {},
     "output_type": "display_data"
    }
   ],
   "source": [
    "# show histogram of length of name_descr column\n",
    "product_df[\"product_description\"].str.len().hist(bins=30)"
   ],
   "metadata": {
    "collapsed": false,
    "ExecuteTime": {
     "end_time": "2023-12-26T20:16:15.348944400Z",
     "start_time": "2023-12-26T20:16:15.122692100Z"
    }
   },
   "id": "b8aa8f9653a38305"
  },
  {
   "cell_type": "code",
   "execution_count": 13,
   "outputs": [
    {
     "data": {
      "text/plain": "['salon chair',\n 'smart coffee table',\n 'dinosaur',\n 'turquoise pillows',\n 'chair and a half recliner',\n 'sofa with ottoman',\n 'acrylic clear chair',\n 'driftwood mirror',\n 'home sweet home sign',\n 'coffee table fire pit',\n 'king poster bed',\n 'ombre rug',\n 'large spoon and fork wall decor',\n 'outdoor privacy wall',\n 'beds that have leds',\n 'black 5 drawer dresser by guilford',\n 'blk 18x18 seat cushions',\n 'closet storage with zipper',\n 'chrome bathroom 4 light vanity light',\n 'gurney  slade 56',\n 'foutains with brick look',\n 'living curtains pearl',\n 'light and navy blue decorative pillow',\n 'stoneford end tables white and wood',\n 'wood coffee table set by storage',\n 'sunflower',\n 'leather chairs',\n 'outdoor welcome rug',\n 'rooster decor',\n 'bathroom vanity knobs',\n '3 1/2 inch drawer pull',\n 'burnt orange curtains',\n 'dark gray dresser',\n 'non slip shower floor tile',\n 'bar stool with backrest',\n 'enclosed shoe rack',\n 'laundry basket with wheels',\n 'bar stool 24 inches height',\n 'calvin patio chair',\n 'door jewelry organizer',\n 'elegant executive chair',\n 'closet pull out valet rod',\n 'toddler couch fold out',\n 'solid teak end table',\n 'chrome shower head and valve',\n '70s inspired furniture',\n 'beach blue headboard',\n 'porcelain loaf pan',\n 'arwen table lamp',\n 'moen matte black hooks',\n 'tufted chair with gold legs',\n 'kohen 5 drawer dresser',\n 'westling coffee table',\n 'carolyn console table',\n 'wayfair sleep zippered',\n 'tollette teal outdoor rug',\n 'royal blue counter height chairs',\n 'jordanna solid wood rocking',\n 'medium size chandelier',\n 'broadway lever',\n 'capricorn chest',\n 'overstreet rustic pub stools',\n '7qt slow cooker',\n 'monthly calendar',\n 'zachary 72.5',\n 'gnome fairy garden',\n 'novara pergola',\n 'osgood mirror',\n 'nautical platters',\n 'wall sconce with usb port',\n 'annex dresser',\n 'infant girl crib bedding',\n 'fold in half table',\n 'certified international melamine',\n 'serta kleinmon',\n 'sheffield home bath set',\n '46 inch closet door',\n 'sancroft armchair',\n 'dorel vanity',\n 'palram harmony greenhouses',\n '7 draw white dresser',\n 'orren ellis l shape desk',\n 'bathroom vanity with counter space',\n 'wall art fiji',\n 'full metal bed rose gold',\n '3/4 size mattress',\n 'aloe vera plant pot',\n 'vlad modular sectional',\n 'rose gold lounge',\n 'whimsical solar lights',\n 'filaret outdoor sofa',\n 'industrial pipe dining  table',\n 'antique silver entry table',\n 'outdoor sectional dining',\n 'kohler whitehaven farmhouse kitchen sink',\n 'entertainment stand end table',\n 'bar room wall decor',\n 'regner power loom red',\n 'gracie oaks 62 oller 14 ceiling fan',\n 'arched christmas tree',\n 'tufted upholstered bed diamond',\n '48 in entry table with side by side drawer',\n 'flamingo',\n 'kitchen anti fatigue mats',\n 'flour and sugar containers',\n 'outdoor movie screen',\n 'bed risers',\n 'front porch furniture sets',\n 'ayesha curry kitchen',\n 'hillsby oriental rug',\n 'mila task chair',\n 'delta trinsic',\n 'pineapple',\n 'led light strip',\n 'geralyn upholstered storage platform bed',\n 'peacock',\n 'brockham solid blackout thermal grommet curtain panels',\n 'tall storage cabinet',\n 'body pillow case',\n 'welcome sign',\n 'zodiac pillow',\n 'upholstered bed',\n 'king size bed',\n 'entrance table',\n 'unique coffee tables',\n 'boho bed frame',\n 'leather dining chairs',\n 'wine bar',\n 'block coffee table',\n 'wainscoting ideas',\n 'entertainment console',\n 'kids chair',\n 'farmhouse cabinet',\n 'outdoor light fixtures',\n 'black hanging bookshelf',\n 'low profile loveseat recliner',\n 'black fluffy stool',\n 'orren ellis l shaped desk',\n 'glass doors for bath',\n 'auburn throw pillows',\n 'wire basket with dividers',\n 'podium with locking cabinet',\n 'kitchen wooden stand',\n 'queen wingback chair',\n 'rug plum',\n 'liberty hardware francisco',\n 'laundry vanity cabinet',\n 'drum picture',\n 'industrial',\n 'mid century modern',\n 'dumbbells',\n 'leather chair',\n 'wishbone chair',\n 'bohemian',\n 'floating bed',\n 'papasan chair frame only',\n 'velvet chaise',\n 'led nightstand',\n 'meditation',\n 'marble',\n 'accent chair recliner',\n 'turquoise chair',\n 'dual monitor stand',\n 'modern outdoor furniture',\n 'kitchen storage shelves',\n 'feather wall art',\n 'camper',\n 'printers',\n 'coffee bar buffet',\n 'zen',\n 'nectar queen mattress',\n 'picasso',\n 'bedroom accessories',\n 'star wars rug',\n 'basket planter',\n 'mexican art',\n 'rustic storage cabinet',\n 'almost heaven sauna',\n 'promo codes or discounts',\n 'outdoor lounge cushions',\n 'e12/candelabra',\n 'penny round tile',\n 'farmhouse bread box',\n 'sugar canister',\n 'lunch bag',\n 'board game storage cabinet',\n 'bedroom wall decor floral, multicolored with some teal (prints)',\n 'big basket for dirty cloths',\n 'benjiamino faux leather power lift chair',\n 'biycicle plant stands',\n 'belchertown table lamp',\n 'black frame 22 x 36',\n 'black freestanding tub  with faucet',\n 'chabely 5 draw chest',\n 'cake plates with tops',\n 'blue faux throw with pillows',\n 'ceramic tile sea shell',\n 'delta trinsic double towel hook in champagne bronze',\n 'full mattress padded liner',\n 'ge top loading washer 4.5',\n 'fleur de lis living candle wall sconce bronze',\n 'ines shag rug w003096809',\n 'grill cover 73',\n 'fawkes 36\" blue vanity',\n 'door pulls bronze matte 4 inch',\n 'love seat wide faux leather tuxedo arm sofa',\n 'memory foam rug galveston',\n 'nettie 5 pc bar set',\n 'kraus kitchen sink faucet oletto kpf 2820 sfs',\n 'light wood nightstand with silver accents',\n 'king adjustable bed including mattress',\n 'music plug wall plate',\n 'sheets for twinxl',\n 'small space dining table and chairs sets',\n 'wisdom stone river 3-3/4',\n 'white splashproof shiplap wallpaper',\n 'power lift chair',\n 'owl',\n 'bee',\n 'waterfall faucet',\n 'gold',\n 'anti fatigue mat',\n 'storage dresser',\n 'kelly clarkson light fixtures',\n 'artificial orchid arrangement',\n 'bathroom wastebasket',\n '3 piece rug set with runners',\n 'cloud modular sectional',\n 'outdoor seat/back cushion',\n 'bathroom single faucet',\n 'eiffel tower wall art',\n 'decorative wall clocks',\n 'accent leather chair',\n 'indoor multi tiered plant stand',\n 'pull out sleeper loveseat',\n 'anchor decor',\n 'clear shower curtain',\n 'beaded curtains',\n 'surge protector',\n 'bistro table and chairs',\n 'multi color rug',\n 'coffee container',\n 'accent chairs living room',\n 'antique brass faucet',\n 'comfortable accent chair',\n 'desk and chair set',\n 'high weight capacity bunk beds',\n 'living room coffee table sets',\n 'breakfast bar table',\n 'nursery end table',\n 'retractable side awning',\n 'semi flush foyer light',\n 'bathroom freestanding cabinet',\n 'small curtain rods',\n 'cortez pillow',\n 'candace wingback upholstered bed',\n 'champagne velvet desk chair',\n 'dolomite subway tile',\n 'betty resin free standing umbrella',\n 'donaldson teak couch',\n 'edge chair mat',\n 'chinese flower stand',\n 'oliver parsons',\n 'stainless steel free standing shower caddy',\n 'gowdy height adjustable standing desk',\n 'hinged square ottoman',\n 'chaves l-shape floating desk with hutch',\n 'barstool patio sets',\n 'parakeet toy',\n 'marlon tufted queen bed',\n 'johan desk by laurel foundry',\n 'brunk ship wheel',\n 'grantola wall mirror',\n 'gaia driftwood table',\n 'family lamp',\n '48\" sliding single track , barn door for laundry',\n 'hitchcock mid-century wall shelf',\n 'cover set for outdoor furniture',\n 'round outdoor patio cover',\n 'coma inducer comforter king set',\n 'mission double vanity',\n 'front door cabinet with doors',\n 'decorative white pillow',\n 'wood floor protector mat',\n 'moen multi function dual shower head',\n 'end table between recliners',\n 'zakariyah twin platform',\n 'seat cushions desk',\n 'small woven pouf',\n 'animal print handmade tufted wool beige/black area rug by allmodern',\n 'circle cabinet pulls',\n 'mattress foam topper queen',\n 'hawaii vintage art',\n 'merlyn 6',\n 'ligth bulb',\n 'mobley zero gravity adjustable bed with wireless remote',\n 'real touch roses floral arrangements in glass vase',\n 'led 60',\n 'moen 5995 arbor one',\n 'meade mirror',\n 'odum velvet',\n 'coat rack for bedroom',\n 'malachi sled',\n 'body pillow and case',\n 'medium clips',\n 'rolande heavy duty power lift assist recliner',\n 'hulmeville writing desk with hutch',\n 'sunjoy lantern',\n 'landis wall mounted bathroom shelves',\n 'blaylock bookcase headboard',\n 'hussain handmade tufted magenta rug',\n 'cream queen duvet cover',\n 'hub leaning full length mirror',\n 'chase utility laundry cart',\n 'outdoor waterproof chest',\n 'bowersville ladder writing desk',\n 'kohler purist brushed bronze',\n 'golub dining table',\n 'wayfair tension rod',\n 'kari 2 piece',\n 'upholstered girls bed',\n 'attleboro drum coffee table',\n 'stainless steel colander set',\n 'itchington butterfly',\n 'canadian',\n 'mystic swivel',\n 'iittala bowl',\n 'mahone porch rocking chair',\n 'ruckus chair',\n 'berenice 4 storage cabinet',\n 'canvas map art',\n 'brendon counter stool',\n 'navy and peach bedding',\n 'ottoman bed queen',\n 'oriental vanity',\n 'nesting tray set',\n 'olive green console table',\n 'one alium way',\n 'mud room sign',\n 'white bathroom vanity black hardware',\n 'amarillo',\n 'pennfield playhouse',\n 'tressler rug',\n 'argenteuil',\n 'platform bed side table',\n 'tall free standing pet gate',\n 'sliding closet mirror',\n 'french molding',\n 'huntsville sectional sofa',\n 'kisner',\n 'brushed gold wall decor',\n 'fortunat coffee table',\n 'croscill ashton',\n 'gas detector',\n 'drudge report',\n 'wooden chair outdoor',\n 'pasta tools',\n 'wrought tv stand',\n 'rug for teen room',\n 'milk cow chair',\n 'verden callan',\n 'togo chair',\n 'sinks bed frame',\n 'pastel pink desk chair',\n 'island estate coffee table',\n 'glinda upholstered bench',\n 'cliffside 5 light candle style drum chandelier',\n 'urban outfitters duvet',\n 'gravity feeder',\n 'farmhouse hood vent',\n 'counter top one cup hot water dispenser',\n 'minnestrista',\n 'dining table vinyl cloth',\n 'mom urn',\n 'alter furniture',\n 'self enclosed planters',\n 'outdoor sectional doning',\n 'brush nickel faucet bathroom',\n 'cushion replacement insert',\n 'writing desk 48\"',\n 'china clock',\n 'propane gas dryer',\n 'gray leather cocktail table',\n 'pantry grey',\n 'alyse 8 light',\n 'maryford queen tufted bed',\n 'super bright lights',\n '12v dirt bike',\n 'small ladies rocker swivel recliner',\n 'glass lsmp shades',\n 'modern farmhouse lighting semi flush mount',\n 'wood rack wide',\n 'large cushion outdoor chair',\n 'queen ann style living room chair',\n 'refrigerator with ice an water in door',\n 'huge bookcase',\n 'girl reading statue',\n 'teal chair',\n 'pool floats',\n 'outdoor clock',\n 'jennie tufted upholstered low profile platform bed',\n 'burruss patio sectional with cushions',\n 'shower hooks',\n 'toilet paper stand',\n 'wayfair coffee table',\n 'twin bed frame',\n 'writing desk',\n 'living room ideas',\n 'tile backsplash',\n 'dining room tables',\n 'ergonomic chair',\n 'wall shelves',\n 'wayfair comforters',\n 'side table with storage',\n 'outdoor storage',\n 'lowes tile',\n 'kitchen storage cabinet',\n 'gray dresser',\n '30 inch bathroom vanity',\n 'shoe bench entryway',\n 'butcher block island',\n 'trundle daybed',\n 'bathroom lighting',\n 'shoe closet',\n 'full bed with trundle',\n 'kitchen islands with seating',\n 'indoor water fountain',\n 'parsons chairs',\n 'wood bar stools',\n 'desk for kids',\n 'above toilet cabinet',\n 'patio design',\n 'outdoor lounge chair',\n 'chaise lounge couch',\n 'card table',\n 'tall buffet cabinet',\n 'bed side table',\n 'living room designs',\n 'aiden black velvet bed',\n 'day bed indian',\n 'midcentury tv unit',\n 'carpet 5x6',\n 'deer coat hooks',\n 'wall design shelf',\n '5 gang light switch',\n 'bubble guppies chair',\n 'tye dye duvet cover',\n 'small wardrobe grey',\n 'luau string lights',\n 'large bases',\n 'bistro sets patio',\n 'cake cutlery',\n 'white abstract',\n 'rock climbing wall kids',\n 'town & country living curtains',\n 'glow in the dark silent wall clock',\n 'garage sports storage rack',\n 'elephant framed',\n 'adjustable height artist stool',\n 'window wall accent',\n 'chair pillow cushion',\n '48 inch bathroom vanity with trough sink',\n 'rattan truck',\n 'hardwood beds',\n 'worn leather office chair',\n 'garage door mail slot',\n 'pictures to hang over fireplace',\n 'emma headboard',\n '48 inch kitchen hood',\n 'rustic twig',\n 'nespresso vertuo next premium by breville with aeroccino',\n 'pedistole sink',\n '54 in bench cushion',\n 'rack glass']"
     },
     "execution_count": 13,
     "metadata": {},
     "output_type": "execute_result"
    }
   ],
   "source": [
    "queries = query_df[\"query\"].tolist()\n",
    "queries"
   ],
   "metadata": {
    "collapsed": false,
    "ExecuteTime": {
     "end_time": "2023-12-26T20:26:59.120499200Z",
     "start_time": "2023-12-26T20:26:58.854440200Z"
    }
   },
   "id": "8270ce396bd46980"
  },
  {
   "cell_type": "markdown",
   "source": [],
   "metadata": {
    "collapsed": false
   },
   "id": "d54c04ccf161e154"
  },
  {
   "cell_type": "code",
   "execution_count": 14,
   "outputs": [
    {
     "data": {
      "text/plain": "[{'item_id': 18522, 'score': 0.71575356},\n {'item_id': 29252, 'score': 0.7008922},\n {'item_id': 29250, 'score': 0.6787871},\n {'item_id': 26968, 'score': 0.65958774},\n {'item_id': 29249, 'score': 0.6477128},\n {'item_id': 29251, 'score': 0.6212919},\n {'item_id': 26049, 'score': 0.6201092},\n {'item_id': 32451, 'score': 0.6010672},\n {'item_id': 26044, 'score': 0.58638144},\n {'item_id': 16225, 'score': 0.5856264},\n {'item_id': 25716, 'score': 0.5774458},\n {'item_id': 25706, 'score': 0.5774458},\n {'item_id': 19625, 'score': 0.57454956},\n {'item_id': 37365, 'score': 0.5652857},\n {'item_id': 9308, 'score': 0.5623131}]"
     },
     "execution_count": 14,
     "metadata": {},
     "output_type": "execute_result"
    }
   ],
   "source": [
    "import os\n",
    "\n",
    "TEXT_EMBEDDING_MODEL = os.getenv(\"TEXT_EMBEDDING_MODEL\")\n",
    "text_embedding_generator = TextEmbeddingGenerator(model_name=TEXT_EMBEDDING_MODEL)\n",
    "query_vector = text_embedding_generator.generate_embedding(\"window wall accent\")\n",
    "\n",
    "vector_client.search(QDRANT_COLLECTION_NAME, query_vector=query_vector, search_type=\"title\", top_k=15)"
   ],
   "metadata": {
    "collapsed": false,
    "ExecuteTime": {
     "end_time": "2023-12-26T20:27:07.259719300Z",
     "start_time": "2023-12-26T20:27:06.481702Z"
    }
   },
   "id": "625fc3c34ae1f28c"
  }
 ],
 "metadata": {
  "kernelspec": {
   "display_name": "Python 3",
   "language": "python",
   "name": "python3"
  },
  "language_info": {
   "codemirror_mode": {
    "name": "ipython",
    "version": 2
   },
   "file_extension": ".py",
   "mimetype": "text/x-python",
   "name": "python",
   "nbconvert_exporter": "python",
   "pygments_lexer": "ipython2",
   "version": "2.7.6"
  }
 },
 "nbformat": 4,
 "nbformat_minor": 5
}
