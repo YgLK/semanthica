{
 "cells": [
  {
   "cell_type": "code",
   "execution_count": 7,
   "outputs": [],
   "source": [
    "import numpy as np\n",
    "import pandas as pd\n",
    "from dotenv import load_dotenv\n",
    "\n",
    "load_dotenv(r\".\\backend\\.env\")\n",
    "\n",
    "# add to path\n",
    "import sys\n",
    "sys.path.append(r\".\\backend\")\n",
    "\n",
    "# %load_ext autoreload\n",
    "# %autoreload 2"
   ],
   "metadata": {
    "collapsed": false,
    "ExecuteTime": {
     "end_time": "2023-12-27T18:56:21.500521100Z",
     "start_time": "2023-12-27T18:56:21.456618500Z"
    }
   },
   "id": "9a4c7d0ac025a064"
  },
  {
   "cell_type": "markdown",
   "source": [
    "### Connect to Qdrant\n"
   ],
   "metadata": {
    "collapsed": false
   },
   "id": "2d22d0cadac13107"
  },
  {
   "cell_type": "code",
   "execution_count": 8,
   "outputs": [],
   "source": [
    "from app.semantic_search import vector_client, QDRANT_COLLECTION_NAME\n",
    "from app.semantic_search.embedding import TextEmbeddingGenerator"
   ],
   "metadata": {
    "collapsed": false,
    "ExecuteTime": {
     "end_time": "2023-12-27T18:56:22.972662200Z",
     "start_time": "2023-12-27T18:56:22.936972600Z"
    }
   },
   "id": "7638ff6ccf5643da"
  },
  {
   "cell_type": "markdown",
   "source": [
    "### Retrieve items from db to df"
   ],
   "metadata": {
    "collapsed": false
   },
   "id": "4d7606b79f13a817"
  },
  {
   "cell_type": "code",
   "execution_count": 10,
   "outputs": [
    {
     "data": {
      "text/plain": "   db_id                     name  \\\n0    361  solid wood platform bed   \n\n                                         description main_category  \\\n0  good , deep sleep can be quite difficult to ha...          Beds   \n\n  sub_category                                          image_url  \\\n0               https://cdn-icons-png.flaticon.com/256/8787/87...   \n\n   stock_quantity price                        created_at  is_deleted  \n0               5  5.99  2023-12-26T14:35:32.184675+00:00       False  ",
      "text/html": "<div>\n<style scoped>\n    .dataframe tbody tr th:only-of-type {\n        vertical-align: middle;\n    }\n\n    .dataframe tbody tr th {\n        vertical-align: top;\n    }\n\n    .dataframe thead th {\n        text-align: right;\n    }\n</style>\n<table border=\"1\" class=\"dataframe\">\n  <thead>\n    <tr style=\"text-align: right;\">\n      <th></th>\n      <th>db_id</th>\n      <th>name</th>\n      <th>description</th>\n      <th>main_category</th>\n      <th>sub_category</th>\n      <th>image_url</th>\n      <th>stock_quantity</th>\n      <th>price</th>\n      <th>created_at</th>\n      <th>is_deleted</th>\n    </tr>\n  </thead>\n  <tbody>\n    <tr>\n      <th>0</th>\n      <td>361</td>\n      <td>solid wood platform bed</td>\n      <td>good , deep sleep can be quite difficult to ha...</td>\n      <td>Beds</td>\n      <td></td>\n      <td>https://cdn-icons-png.flaticon.com/256/8787/87...</td>\n      <td>5</td>\n      <td>5.99</td>\n      <td>2023-12-26T14:35:32.184675+00:00</td>\n      <td>False</td>\n    </tr>\n  </tbody>\n</table>\n</div>"
     },
     "execution_count": 10,
     "metadata": {},
     "output_type": "execute_result"
    }
   ],
   "source": [
    "from app import models, schemas\n",
    "from app.database import get_db, get_meili_index\n",
    "from sqlalchemy.orm import Session\n",
    "from typing import List\n",
    "\n",
    "\n",
    "db = next(get_db())\n",
    "\n",
    "# retrieve products from db\n",
    "def get_products(item_ids: List[int]):\n",
    "    \"\"\"Get all products from the database with the specified item IDs.\"\"\"\n",
    "    products = db.query(models.Item).filter(models.Item.id.in_(item_ids)).all()\n",
    "    items = [item.as_dict() for item in products]\n",
    "    items_df = pd.DataFrame(items)\n",
    "    items_df.rename(columns={\"id\": \"db_id\"}, inplace=True)\n",
    "    return items_df\n",
    "\n",
    "get_products([361])"
   ],
   "metadata": {
    "collapsed": false,
    "ExecuteTime": {
     "end_time": "2023-12-27T18:56:27.082883700Z",
     "start_time": "2023-12-27T18:56:27.012582Z"
    }
   },
   "id": "49b8f4cea0467d84"
  },
  {
   "cell_type": "code",
   "execution_count": 87,
   "outputs": [],
   "source": [
    "query_df = pd.read_csv(\"data_eval_prepared/query_cleaned.csv\", sep='\\t')\n",
    "labels_df = pd.read_csv(\"WANDS/dataset/label.csv\", sep='\\t')\n",
    "product_df = pd.read_csv(\"data_eval_prepared/product_cleaned.csv\", sep='\\t')\n",
    "\n",
    "# add item name to labels df\n",
    "labels_df = labels_df.merge(product_df[[\"product_id\", \"product_name\"]], left_on=\"product_id\", right_on=\"product_id\")"
   ],
   "metadata": {
    "collapsed": false,
    "ExecuteTime": {
     "end_time": "2023-12-27T19:31:24.652310600Z",
     "start_time": "2023-12-27T19:31:23.316093900Z"
    }
   },
   "id": "48cfdb844cf2eacd"
  },
  {
   "cell_type": "markdown",
   "source": [
    "## Vector search\n",
    "\n",
    "search_field = \"title\" | \"title_descr\"\n",
    "\n",
    "title - search only in title\n",
    "title_descr - search in title and description"
   ],
   "metadata": {
    "collapsed": false
   },
   "id": "7053ea51e793bd3c"
  },
  {
   "cell_type": "code",
   "execution_count": 108,
   "outputs": [
    {
     "data": {
      "text/plain": "       score    label  query_id  \\\n0   0.609701  Partial       215   \n1   0.608512  Partial       215   \n3   0.605916  Partial       215   \n5   0.602996  Partial       215   \n7   0.599622  Partial       215   \n9   0.598194  Partial       215   \n10  0.580596  Partial       215   \n11  0.575197  Partial       215   \n12  0.570252  Partial       215   \n13  0.568816  Partial       215   \n15  0.567376  Partial       215   \n16  0.566139  Partial       215   \n17  0.562329  Partial       215   \n18  0.555407  Partial       215   \n20  0.555389  Partial       215   \n\n                                                 name  \\\n0      14 '' adjustable bed base with wireless remote   \n1                                adjustable bed frame   \n3   caulkins heavy duty adjustable metal bed frame...   \n5                           adjustable-size bed frame   \n7                    8 piece adjustable bed riser set   \n9                                 adjustable bed base   \n10           head-foot model-good adjustable bed base   \n11                        comfort adjustable bed base   \n12  kira 13 '' massaging zero gravity adjustable b...   \n13                           tahmid king standard bed   \n15                    adjustable head bed with remote   \n16             zinus 14 '' adjustable bed with remote   \n17                   15 '' adjustable bed with remote   \n18                         carmelia eeastern king bed   \n20  9 '' zero gravity adjustable bed with wireless...   \n\n                                          description    main_category  \\\n0   we set out to create a quality and reliable ad...  Adjustable Beds   \n1   looking to upgrade a tired bedframe ? or are y...       Bed Frames   \n3   set a simplistic foundation for your restful r...  Bed Frames|Beds   \n5   set a practical foundation for your guest room...  Bed Frames|Beds   \n7   keep your bed propped up with these sturdy and...  Bed Accessories   \n9   adjustable bed base with wireless remote , dua...  Adjustable Beds   \n10  rise to new heights and get the sleep you 've ...  Adjustable Beds   \n11  this comfortable adjustable bed base is the pe...  Adjustable Beds   \n12  white noise adjustable beds offer a host of lu...  Adjustable Beds   \n13  the bedroom collection offers sophisticated lo...             Beds   \n15  take sleep to a whole new level with this quee...  Adjustable Beds   \n16  available in twin xl , full , and queen sizes ...  Adjustable Beds   \n17  keep life simple with the economical inkline u...  Adjustable Beds   \n18  nothing can match the simple sophistication of...             Beds   \n20  this product is composed of an adjustable bed ...  Adjustable Beds   \n\n                                            image_url  db_id  \n0   https://cdn-icons-png.flaticon.com/256/8787/87...    587  \n1   https://cdn-icons-png.flaticon.com/256/8787/87...   2195  \n3   https://cdn-icons-png.flaticon.com/256/8787/87...   2263  \n5   https://cdn-icons-png.flaticon.com/256/8787/87...   2207  \n7   https://cdn-icons-png.flaticon.com/256/8787/87...  32292  \n9   https://cdn-icons-png.flaticon.com/256/8787/87...  28561  \n10  https://cdn-icons-png.flaticon.com/256/8787/87...  15864  \n11  https://cdn-icons-png.flaticon.com/256/8787/87...   7967  \n12  https://cdn-icons-png.flaticon.com/256/8787/87...  35314  \n13  https://cdn-icons-png.flaticon.com/256/8787/87...  16970  \n15  https://cdn-icons-png.flaticon.com/256/8787/87...  15863  \n16  https://cdn-icons-png.flaticon.com/256/8787/87...  40022  \n17  https://cdn-icons-png.flaticon.com/256/8787/87...    586  \n18  https://cdn-icons-png.flaticon.com/256/8787/87...  37700  \n20  https://cdn-icons-png.flaticon.com/256/8787/87...   7231  ",
      "text/html": "<div>\n<style scoped>\n    .dataframe tbody tr th:only-of-type {\n        vertical-align: middle;\n    }\n\n    .dataframe tbody tr th {\n        vertical-align: top;\n    }\n\n    .dataframe thead th {\n        text-align: right;\n    }\n</style>\n<table border=\"1\" class=\"dataframe\">\n  <thead>\n    <tr style=\"text-align: right;\">\n      <th></th>\n      <th>score</th>\n      <th>label</th>\n      <th>query_id</th>\n      <th>name</th>\n      <th>description</th>\n      <th>main_category</th>\n      <th>image_url</th>\n      <th>db_id</th>\n    </tr>\n  </thead>\n  <tbody>\n    <tr>\n      <th>0</th>\n      <td>0.609701</td>\n      <td>Partial</td>\n      <td>215</td>\n      <td>14 '' adjustable bed base with wireless remote</td>\n      <td>we set out to create a quality and reliable ad...</td>\n      <td>Adjustable Beds</td>\n      <td>https://cdn-icons-png.flaticon.com/256/8787/87...</td>\n      <td>587</td>\n    </tr>\n    <tr>\n      <th>1</th>\n      <td>0.608512</td>\n      <td>Partial</td>\n      <td>215</td>\n      <td>adjustable bed frame</td>\n      <td>looking to upgrade a tired bedframe ? or are y...</td>\n      <td>Bed Frames</td>\n      <td>https://cdn-icons-png.flaticon.com/256/8787/87...</td>\n      <td>2195</td>\n    </tr>\n    <tr>\n      <th>3</th>\n      <td>0.605916</td>\n      <td>Partial</td>\n      <td>215</td>\n      <td>caulkins heavy duty adjustable metal bed frame...</td>\n      <td>set a simplistic foundation for your restful r...</td>\n      <td>Bed Frames|Beds</td>\n      <td>https://cdn-icons-png.flaticon.com/256/8787/87...</td>\n      <td>2263</td>\n    </tr>\n    <tr>\n      <th>5</th>\n      <td>0.602996</td>\n      <td>Partial</td>\n      <td>215</td>\n      <td>adjustable-size bed frame</td>\n      <td>set a practical foundation for your guest room...</td>\n      <td>Bed Frames|Beds</td>\n      <td>https://cdn-icons-png.flaticon.com/256/8787/87...</td>\n      <td>2207</td>\n    </tr>\n    <tr>\n      <th>7</th>\n      <td>0.599622</td>\n      <td>Partial</td>\n      <td>215</td>\n      <td>8 piece adjustable bed riser set</td>\n      <td>keep your bed propped up with these sturdy and...</td>\n      <td>Bed Accessories</td>\n      <td>https://cdn-icons-png.flaticon.com/256/8787/87...</td>\n      <td>32292</td>\n    </tr>\n    <tr>\n      <th>9</th>\n      <td>0.598194</td>\n      <td>Partial</td>\n      <td>215</td>\n      <td>adjustable bed base</td>\n      <td>adjustable bed base with wireless remote , dua...</td>\n      <td>Adjustable Beds</td>\n      <td>https://cdn-icons-png.flaticon.com/256/8787/87...</td>\n      <td>28561</td>\n    </tr>\n    <tr>\n      <th>10</th>\n      <td>0.580596</td>\n      <td>Partial</td>\n      <td>215</td>\n      <td>head-foot model-good adjustable bed base</td>\n      <td>rise to new heights and get the sleep you 've ...</td>\n      <td>Adjustable Beds</td>\n      <td>https://cdn-icons-png.flaticon.com/256/8787/87...</td>\n      <td>15864</td>\n    </tr>\n    <tr>\n      <th>11</th>\n      <td>0.575197</td>\n      <td>Partial</td>\n      <td>215</td>\n      <td>comfort adjustable bed base</td>\n      <td>this comfortable adjustable bed base is the pe...</td>\n      <td>Adjustable Beds</td>\n      <td>https://cdn-icons-png.flaticon.com/256/8787/87...</td>\n      <td>7967</td>\n    </tr>\n    <tr>\n      <th>12</th>\n      <td>0.570252</td>\n      <td>Partial</td>\n      <td>215</td>\n      <td>kira 13 '' massaging zero gravity adjustable b...</td>\n      <td>white noise adjustable beds offer a host of lu...</td>\n      <td>Adjustable Beds</td>\n      <td>https://cdn-icons-png.flaticon.com/256/8787/87...</td>\n      <td>35314</td>\n    </tr>\n    <tr>\n      <th>13</th>\n      <td>0.568816</td>\n      <td>Partial</td>\n      <td>215</td>\n      <td>tahmid king standard bed</td>\n      <td>the bedroom collection offers sophisticated lo...</td>\n      <td>Beds</td>\n      <td>https://cdn-icons-png.flaticon.com/256/8787/87...</td>\n      <td>16970</td>\n    </tr>\n    <tr>\n      <th>15</th>\n      <td>0.567376</td>\n      <td>Partial</td>\n      <td>215</td>\n      <td>adjustable head bed with remote</td>\n      <td>take sleep to a whole new level with this quee...</td>\n      <td>Adjustable Beds</td>\n      <td>https://cdn-icons-png.flaticon.com/256/8787/87...</td>\n      <td>15863</td>\n    </tr>\n    <tr>\n      <th>16</th>\n      <td>0.566139</td>\n      <td>Partial</td>\n      <td>215</td>\n      <td>zinus 14 '' adjustable bed with remote</td>\n      <td>available in twin xl , full , and queen sizes ...</td>\n      <td>Adjustable Beds</td>\n      <td>https://cdn-icons-png.flaticon.com/256/8787/87...</td>\n      <td>40022</td>\n    </tr>\n    <tr>\n      <th>17</th>\n      <td>0.562329</td>\n      <td>Partial</td>\n      <td>215</td>\n      <td>15 '' adjustable bed with remote</td>\n      <td>keep life simple with the economical inkline u...</td>\n      <td>Adjustable Beds</td>\n      <td>https://cdn-icons-png.flaticon.com/256/8787/87...</td>\n      <td>586</td>\n    </tr>\n    <tr>\n      <th>18</th>\n      <td>0.555407</td>\n      <td>Partial</td>\n      <td>215</td>\n      <td>carmelia eeastern king bed</td>\n      <td>nothing can match the simple sophistication of...</td>\n      <td>Beds</td>\n      <td>https://cdn-icons-png.flaticon.com/256/8787/87...</td>\n      <td>37700</td>\n    </tr>\n    <tr>\n      <th>20</th>\n      <td>0.555389</td>\n      <td>Partial</td>\n      <td>215</td>\n      <td>9 '' zero gravity adjustable bed with wireless...</td>\n      <td>this product is composed of an adjustable bed ...</td>\n      <td>Adjustable Beds</td>\n      <td>https://cdn-icons-png.flaticon.com/256/8787/87...</td>\n      <td>7231</td>\n    </tr>\n  </tbody>\n</table>\n</div>"
     },
     "execution_count": 108,
     "metadata": {},
     "output_type": "execute_result"
    }
   ],
   "source": [
    "import os\n",
    "\n",
    "TEXT_EMBEDDING_MODEL = os.getenv(\"TEXT_EMBEDDING_MODEL\")\n",
    "text_embedding_generator = TextEmbeddingGenerator(model_name=TEXT_EMBEDDING_MODEL)\n",
    "\n",
    "\n",
    "def search_vector(query_id: int, search_field: str = \"title\", top_k: int = 10):\n",
    "    \"\"\"Search for items in the database.\"\"\"\n",
    "    query = query_df[query_df[\"query_id\"] == query_id][\"query\"].values[0]\n",
    "    # print(f\"Searching for: {query}\")\n",
    "    # generate query vector\n",
    "    query_vector = text_embedding_generator.generate_embedding(query)\n",
    "    # search for items\n",
    "    results = vector_client.search(QDRANT_COLLECTION_NAME, query_vector=query_vector, search_type=search_field, top_k=top_k)\n",
    "    \n",
    "    # prep results\n",
    "    res_df = pd.DataFrame(results)\n",
    "    products_df = get_products(res_df[\"item_id\"].tolist())\n",
    "    products_df = products_df.rename(columns={\"id\": \"db_id\"})\n",
    "    res_df = products_df.merge(res_df, left_on=\"db_id\", right_on=\"item_id\")\n",
    "    \n",
    "    # sort by score\n",
    "    res_df = res_df.sort_values(by=\"score\", ascending=False)\n",
    "    # drop columns\n",
    "    res_df = res_df[[\"db_id\", \"item_id\", \"score\", \"name\", \"description\", \"main_category\", \"image_url\"]]  \n",
    "\n",
    "    # merge with labels df and query df\n",
    "    labels = labels_df[labels_df[\"query_id\"] == query_id]\n",
    "    res_df = res_df.merge(labels, left_on=\"name\", right_on=\"product_name\", how=\"left\")\n",
    "    \n",
    "    # retrieve only relevant columns\n",
    "    res_df = res_df[[\"score\", \"label\", \"query_id\", \"name\", \"description\", \"main_category\", \"image_url\", \"db_id\"]]\n",
    "    res_df[\"label\"] = res_df[\"label\"].fillna(\"Unknown\") # Query product relation not defined in dataset\n",
    "    res_df = res_df.drop_duplicates()\n",
    "    return res_df, query_id\n",
    "\n",
    "\n",
    "res_df, query_id = search_vector(215, search_field=\"title_descr\", top_k=15)\n",
    "res_df.sort_values(by=\"score\", ascending=False)"
   ],
   "metadata": {
    "collapsed": false,
    "ExecuteTime": {
     "end_time": "2023-12-27T19:39:17.167070600Z",
     "start_time": "2023-12-27T19:39:16.791539400Z"
    }
   },
   "id": "709bf2093e1b3440"
  },
  {
   "cell_type": "markdown",
   "source": [
    "## Classic search \n",
    "\n",
    "Meilisearch is used for classic search"
   ],
   "metadata": {
    "collapsed": false
   },
   "id": "1ad8b65a9b296f14"
  },
  {
   "cell_type": "code",
   "execution_count": 104,
   "outputs": [
    {
     "name": "stdout",
     "output_type": "stream",
     "text": [
      "items_eval_V2\n"
     ]
    },
    {
     "data": {
      "text/plain": "    db_id     score    label  \\\n0   38682  0.983294  Partial   \n1   33129  0.975254  Partial   \n2    5170  0.949960  Partial   \n3   15149  0.945365  Partial   \n4   34798  0.779090  Partial   \n5   34800  0.779090  Partial   \n6    6353  0.773649  Partial   \n7   16751  0.773649  Partial   \n8   18743  0.773646  Partial   \n9   35674  0.773643  Partial   \n10  36237  0.773643  Partial   \n11   3889  0.773639  Partial   \n12  13433  0.773639  Partial   \n13  13434  0.773639  Partial   \n14  33131  0.773639  Partial   \n\n                                                 name  \\\n0              edenderry 30 '' single bathroom vanity   \n1   braylen sliding barn door 36 '' single bathroo...   \n2                corburn 30 '' single bathroom vanity   \n3      samoset 72 '' double bathroom vanity base only   \n4        friedland 30.5 '' single bathroom vanity set   \n5         aleksandra 49 '' single bathroom vanity set   \n6                    32 '' single bathroom vanity set   \n7        49 '' double bathroom vanity round with sink   \n8   martinsville 36 '' single sink bathroom vanity...   \n9               ellaline 42 '' single bathroom vanity   \n10              marr 19 '' single bathroom vanity set   \n11            cleone 30 '' single bathroom vanity set   \n12     daggna modern 36 '' single bathroom vanity set   \n13                daggna 30 '' single bathroom vanity   \n14  braylen sliding barn door 60 '' double bathroo...   \n\n                                          description main_category  \\\n0   simplify those rushed mornings with the timele...      Vanities   \n1   this single bathroom vanity set brings coastal...      Vanities   \n2   a good product with two birds with one stone ....      Vanities   \n3   round out your bathroom ensemble with a stylis...  Vanity Bases   \n4   live with the freedom and reassurance of knowi...      Vanities   \n5   live with the freedom and reassurance of knowi...      Vanities   \n6   a cost-effective modern style bathroom vanity ...      Vanities   \n7   add a luxurious touch to your space with this ...   Vanity Tops   \n8   enjoy a sense of warmth in your bathroom with ...      Vanities   \n9   traditional charm meets coastal flair with thi...      Vanities   \n10  the marr 18 '' single bathroom vanity set rede...      Vanities   \n11  this 30 '' single bathroom vanity set has bree...      Vanities   \n12  the eviva lugano bathroom vanity has a very mo...      Vanities   \n13  the eviva lugano bathroom vanity has a very mo...      Vanities   \n14  this 60 '' double bathroom vanity set brings a...      Vanities   \n\n                                            image_url  query_id  \n0   https://cdn-icons-png.flaticon.com/256/8787/87...       351  \n1   https://cdn-icons-png.flaticon.com/256/8787/87...       351  \n2   https://cdn-icons-png.flaticon.com/256/8787/87...       351  \n3   https://cdn-icons-png.flaticon.com/256/8787/87...       351  \n4   https://cdn-icons-png.flaticon.com/256/8787/87...       351  \n5   https://cdn-icons-png.flaticon.com/256/8787/87...       351  \n6   https://cdn-icons-png.flaticon.com/256/8787/87...       351  \n7   https://cdn-icons-png.flaticon.com/256/8787/87...       351  \n8   https://cdn-icons-png.flaticon.com/256/8787/87...       351  \n9   https://cdn-icons-png.flaticon.com/256/8787/87...       351  \n10  https://cdn-icons-png.flaticon.com/256/8787/87...       351  \n11  https://cdn-icons-png.flaticon.com/256/8787/87...       351  \n12  https://cdn-icons-png.flaticon.com/256/8787/87...       351  \n13  https://cdn-icons-png.flaticon.com/256/8787/87...       351  \n14  https://cdn-icons-png.flaticon.com/256/8787/87...       351  ",
      "text/html": "<div>\n<style scoped>\n    .dataframe tbody tr th:only-of-type {\n        vertical-align: middle;\n    }\n\n    .dataframe tbody tr th {\n        vertical-align: top;\n    }\n\n    .dataframe thead th {\n        text-align: right;\n    }\n</style>\n<table border=\"1\" class=\"dataframe\">\n  <thead>\n    <tr style=\"text-align: right;\">\n      <th></th>\n      <th>db_id</th>\n      <th>score</th>\n      <th>label</th>\n      <th>name</th>\n      <th>description</th>\n      <th>main_category</th>\n      <th>image_url</th>\n      <th>query_id</th>\n    </tr>\n  </thead>\n  <tbody>\n    <tr>\n      <th>0</th>\n      <td>38682</td>\n      <td>0.983294</td>\n      <td>Partial</td>\n      <td>edenderry 30 '' single bathroom vanity</td>\n      <td>simplify those rushed mornings with the timele...</td>\n      <td>Vanities</td>\n      <td>https://cdn-icons-png.flaticon.com/256/8787/87...</td>\n      <td>351</td>\n    </tr>\n    <tr>\n      <th>1</th>\n      <td>33129</td>\n      <td>0.975254</td>\n      <td>Partial</td>\n      <td>braylen sliding barn door 36 '' single bathroo...</td>\n      <td>this single bathroom vanity set brings coastal...</td>\n      <td>Vanities</td>\n      <td>https://cdn-icons-png.flaticon.com/256/8787/87...</td>\n      <td>351</td>\n    </tr>\n    <tr>\n      <th>2</th>\n      <td>5170</td>\n      <td>0.949960</td>\n      <td>Partial</td>\n      <td>corburn 30 '' single bathroom vanity</td>\n      <td>a good product with two birds with one stone ....</td>\n      <td>Vanities</td>\n      <td>https://cdn-icons-png.flaticon.com/256/8787/87...</td>\n      <td>351</td>\n    </tr>\n    <tr>\n      <th>3</th>\n      <td>15149</td>\n      <td>0.945365</td>\n      <td>Partial</td>\n      <td>samoset 72 '' double bathroom vanity base only</td>\n      <td>round out your bathroom ensemble with a stylis...</td>\n      <td>Vanity Bases</td>\n      <td>https://cdn-icons-png.flaticon.com/256/8787/87...</td>\n      <td>351</td>\n    </tr>\n    <tr>\n      <th>4</th>\n      <td>34798</td>\n      <td>0.779090</td>\n      <td>Partial</td>\n      <td>friedland 30.5 '' single bathroom vanity set</td>\n      <td>live with the freedom and reassurance of knowi...</td>\n      <td>Vanities</td>\n      <td>https://cdn-icons-png.flaticon.com/256/8787/87...</td>\n      <td>351</td>\n    </tr>\n    <tr>\n      <th>5</th>\n      <td>34800</td>\n      <td>0.779090</td>\n      <td>Partial</td>\n      <td>aleksandra 49 '' single bathroom vanity set</td>\n      <td>live with the freedom and reassurance of knowi...</td>\n      <td>Vanities</td>\n      <td>https://cdn-icons-png.flaticon.com/256/8787/87...</td>\n      <td>351</td>\n    </tr>\n    <tr>\n      <th>6</th>\n      <td>6353</td>\n      <td>0.773649</td>\n      <td>Partial</td>\n      <td>32 '' single bathroom vanity set</td>\n      <td>a cost-effective modern style bathroom vanity ...</td>\n      <td>Vanities</td>\n      <td>https://cdn-icons-png.flaticon.com/256/8787/87...</td>\n      <td>351</td>\n    </tr>\n    <tr>\n      <th>7</th>\n      <td>16751</td>\n      <td>0.773649</td>\n      <td>Partial</td>\n      <td>49 '' double bathroom vanity round with sink</td>\n      <td>add a luxurious touch to your space with this ...</td>\n      <td>Vanity Tops</td>\n      <td>https://cdn-icons-png.flaticon.com/256/8787/87...</td>\n      <td>351</td>\n    </tr>\n    <tr>\n      <th>8</th>\n      <td>18743</td>\n      <td>0.773646</td>\n      <td>Partial</td>\n      <td>martinsville 36 '' single sink bathroom vanity...</td>\n      <td>enjoy a sense of warmth in your bathroom with ...</td>\n      <td>Vanities</td>\n      <td>https://cdn-icons-png.flaticon.com/256/8787/87...</td>\n      <td>351</td>\n    </tr>\n    <tr>\n      <th>9</th>\n      <td>35674</td>\n      <td>0.773643</td>\n      <td>Partial</td>\n      <td>ellaline 42 '' single bathroom vanity</td>\n      <td>traditional charm meets coastal flair with thi...</td>\n      <td>Vanities</td>\n      <td>https://cdn-icons-png.flaticon.com/256/8787/87...</td>\n      <td>351</td>\n    </tr>\n    <tr>\n      <th>10</th>\n      <td>36237</td>\n      <td>0.773643</td>\n      <td>Partial</td>\n      <td>marr 19 '' single bathroom vanity set</td>\n      <td>the marr 18 '' single bathroom vanity set rede...</td>\n      <td>Vanities</td>\n      <td>https://cdn-icons-png.flaticon.com/256/8787/87...</td>\n      <td>351</td>\n    </tr>\n    <tr>\n      <th>11</th>\n      <td>3889</td>\n      <td>0.773639</td>\n      <td>Partial</td>\n      <td>cleone 30 '' single bathroom vanity set</td>\n      <td>this 30 '' single bathroom vanity set has bree...</td>\n      <td>Vanities</td>\n      <td>https://cdn-icons-png.flaticon.com/256/8787/87...</td>\n      <td>351</td>\n    </tr>\n    <tr>\n      <th>12</th>\n      <td>13433</td>\n      <td>0.773639</td>\n      <td>Partial</td>\n      <td>daggna modern 36 '' single bathroom vanity set</td>\n      <td>the eviva lugano bathroom vanity has a very mo...</td>\n      <td>Vanities</td>\n      <td>https://cdn-icons-png.flaticon.com/256/8787/87...</td>\n      <td>351</td>\n    </tr>\n    <tr>\n      <th>13</th>\n      <td>13434</td>\n      <td>0.773639</td>\n      <td>Partial</td>\n      <td>daggna 30 '' single bathroom vanity</td>\n      <td>the eviva lugano bathroom vanity has a very mo...</td>\n      <td>Vanities</td>\n      <td>https://cdn-icons-png.flaticon.com/256/8787/87...</td>\n      <td>351</td>\n    </tr>\n    <tr>\n      <th>14</th>\n      <td>33131</td>\n      <td>0.773639</td>\n      <td>Partial</td>\n      <td>braylen sliding barn door 60 '' double bathroo...</td>\n      <td>this 60 '' double bathroom vanity set brings a...</td>\n      <td>Vanities</td>\n      <td>https://cdn-icons-png.flaticon.com/256/8787/87...</td>\n      <td>351</td>\n    </tr>\n  </tbody>\n</table>\n</div>"
     },
     "execution_count": 104,
     "metadata": {},
     "output_type": "execute_result"
    }
   ],
   "source": [
    "from typing import Tuple\n",
    "\n",
    "items_index = get_meili_index()\n",
    "no_results_classic_title_descr = 0\n",
    "\n",
    "def classic_search(query_id: int, top_k: int = 10, fields: tuple = (\"name\", \"description\")):\n",
    "        # https://www.meilisearch.com/docs/reference/api/search\n",
    "    global no_results_classic_title_descr  # Add this line to access the global variable\n",
    "    query = query_df[query_df[\"query_id\"] == query_id][\"query\"].values[0]\n",
    "    # print(f\"Searching for: {query}\")\n",
    "    \n",
    "    result = items_index.search(\n",
    "        query,\n",
    "        {\n",
    "            'matchingStrategy': 'last',\n",
    "            'limit': top_k,\n",
    "            \"attributesToSearchOn\": list(fields),\n",
    "            \"showRankingScore\": True\n",
    "        }\n",
    "    )\n",
    "    \n",
    "    res_df = pd.DataFrame(result[\"hits\"])\n",
    "    if res_df.shape[0] == 0:\n",
    "        print(\"No results for query in classic search: \", query)\n",
    "        no_results_classic_title_descr += 1\n",
    "        return pd.DataFrame(columns=[\"db_id\", \"score\", \"label\", \"name\", \"description\", \"main_category\", \"image_url\"]), query_id\n",
    "    res_df = res_df.rename(columns={\"id\": \"db_id\", \"_rankingScore\": \"score\"})\n",
    "    products_df = get_products(res_df[\"db_id\"].tolist())\n",
    "    res_df = res_df[[\"db_id\", \"score\"]]\n",
    "    res_df = products_df.merge(res_df, left_on=\"db_id\", right_on=\"db_id\")\n",
    "    res_df = res_df.sort_values(by=\"score\", ascending=False)\n",
    "    res_df = res_df[[\"db_id\", \"score\", \"name\", \"description\", \"main_category\", \"image_url\"]]\n",
    "        \n",
    "    # merge with labels df and query df\n",
    "    labels = labels_df[labels_df[\"query_id\"] == query_id]\n",
    "    res_df = res_df.merge(labels, left_on=\"name\", right_on=\"product_name\", how=\"left\")\n",
    "    res_df = res_df[[\"db_id\", \"score\", \"label\", \"name\", \"description\", \"main_category\", \"image_url\"]]\n",
    "    res_df[\"label\"] = res_df[\"label\"].fillna(\"Unknown\") # relation not defined in dataset \n",
    "    res_df[\"query_id\"] = query_id\n",
    "    res_df = res_df.drop_duplicates()\n",
    "    return res_df, query_id\n",
    "\n",
    "res_df, query_id = classic_search(351, top_k=15, fields=(\"name\", \"description\"))\n",
    "res_df"
   ],
   "metadata": {
    "collapsed": false,
    "ExecuteTime": {
     "end_time": "2023-12-27T19:37:54.645566500Z",
     "start_time": "2023-12-27T19:37:54.565627400Z"
    }
   },
   "id": "40bcd0137b417fcd"
  },
  {
   "cell_type": "markdown",
   "source": [
    "## CONFIG"
   ],
   "metadata": {
    "collapsed": false
   },
   "id": "1d3e17dd2e75cbdd"
  },
  {
   "cell_type": "code",
   "execution_count": 16,
   "outputs": [],
   "source": [
    "top_k = 15"
   ],
   "metadata": {
    "collapsed": false,
    "ExecuteTime": {
     "end_time": "2023-12-27T18:57:12.952475900Z",
     "start_time": "2023-12-27T18:57:12.920792900Z"
    }
   },
   "id": "233bad1a43a50b68"
  },
  {
   "cell_type": "code",
   "execution_count": 95,
   "outputs": [],
   "source": [
    "import seaborn as sns\n",
    "import matplotlib.pyplot as plt\n",
    "\n",
    "def plot(df, columns, labels, colors, xlabel='Count of items', ylabel='Density', title='TOP15 products retrieval', cut=0):\n",
    "    # Set up the matplotlib figure\n",
    "    plt.figure(figsize=(10, 6))\n",
    "\n",
    "    # Plot kernel density plots with dots for each column\n",
    "    for col, label, color in zip(columns, labels, colors):\n",
    "        sns.histplot(df[col], label=label, color=color, bins=15, stat='count', element='step')\n",
    "\n",
    "    # Add labels and title\n",
    "    plt.xlabel(xlabel)\n",
    "    plt.ylabel(ylabel)\n",
    "    plt.title(title)\n",
    "\n",
    "    # Add legend\n",
    "    plt.legend()\n",
    "\n",
    "    # Show the plot\n",
    "    plt.show()"
   ],
   "metadata": {
    "collapsed": false,
    "ExecuteTime": {
     "end_time": "2023-12-27T19:34:34.731374600Z",
     "start_time": "2023-12-27T19:34:34.716368400Z"
    }
   },
   "id": "8a15e47ce6d06461"
  },
  {
   "cell_type": "code",
   "execution_count": 115,
   "outputs": [],
   "source": [
    "from tqdm import tqdm \n",
    "tqdm.pandas()\n",
    "\n",
    "def count_labels(df, query_id):\n",
    "    if df.shape[0] == 0:\n",
    "        return {\n",
    "            \"Irrelevant\": 0,\n",
    "            \"Partial\": 0,\n",
    "            \"Exact\": 0,\n",
    "            \"Unknown\": 0,\n",
    "            \"query_id\": query_id\n",
    "        }\n",
    "    res = df[\"label\"].value_counts().to_dict()\n",
    "    res[\"query_id\"] = query_id\n",
    "    return res"
   ],
   "metadata": {
    "collapsed": false,
    "ExecuteTime": {
     "end_time": "2023-12-27T19:40:56.159187100Z",
     "start_time": "2023-12-27T19:40:56.144877900Z"
    }
   },
   "id": "9102619142d5aaf6"
  },
  {
   "cell_type": "markdown",
   "source": [
    "## Search with Title + Description"
   ],
   "metadata": {
    "collapsed": false
   },
   "id": "7798d22d0e0e4d75"
  },
  {
   "cell_type": "markdown",
   "source": [
    "#### Vector"
   ],
   "metadata": {
    "collapsed": false
   },
   "id": "9bbd5ed7f07e83a2"
  },
  {
   "cell_type": "code",
   "execution_count": 158,
   "outputs": [
    {
     "name": "stderr",
     "output_type": "stream",
     "text": [
      "100%|██████████| 474/474 [00:19<00:00, 24.87it/s]\n"
     ]
    },
    {
     "data": {
      "text/plain": "0      {'Partial': 8, 'Exact': 6, 'Irrelevant': 1, 'q...\n1        {'Partial': 14, 'Irrelevant': 1, 'query_id': 1}\n2                           {'Exact': 15, 'query_id': 2}\n3      {'Exact': 7, 'Partial': 5, 'Irrelevant': 3, 'q...\n4            {'Unknown': 8, 'Partial': 7, 'query_id': 4}\n                             ...                        \n469         {'Partial': 14, 'Exact': 1, 'query_id': 483}\n470                     {'Partial': 15, 'query_id': 484}\n471    {'Irrelevant': 6, 'Unknown': 6, 'Partial': 3, ...\n472        {'Partial': 8, 'Unknown': 7, 'query_id': 486}\n473    {'Unknown': 14, 'Irrelevant': 1, 'query_id': 487}\nName: query_id, Length: 474, dtype: object"
     },
     "execution_count": 158,
     "metadata": {},
     "output_type": "execute_result"
    }
   ],
   "source": [
    "res_vector_title_descr = query_df[\"query_id\"].progress_apply(lambda q_id: count_labels(*search_vector(q_id, search_field=\"title_descr\", top_k=top_k)))\n",
    "res_vector_title_descr"
   ],
   "metadata": {
    "collapsed": false,
    "ExecuteTime": {
     "end_time": "2023-12-28T00:46:51.031663700Z",
     "start_time": "2023-12-28T00:46:31.921964200Z"
    }
   },
   "id": "b1deea1ddb0363a4"
  },
  {
   "cell_type": "code",
   "execution_count": 159,
   "outputs": [
    {
     "data": {
      "text/plain": "     query_id  Irrelevant  Partial  Exact  Unknown\n0           0         1.0      8.0    6.0      0.0\n1           1         1.0     14.0    0.0      0.0\n2           2         0.0      0.0   15.0      0.0\n3           3         3.0      5.0    7.0      0.0\n4           4         0.0      7.0    0.0      8.0\n..        ...         ...      ...    ...      ...\n469       483         0.0     14.0    1.0      0.0\n470       484         0.0     15.0    0.0      0.0\n471       485         6.0      3.0    0.0      6.0\n472       486         0.0      8.0    0.0      7.0\n473       487         1.0      0.0    0.0     14.0\n\n[474 rows x 5 columns]",
      "text/html": "<div>\n<style scoped>\n    .dataframe tbody tr th:only-of-type {\n        vertical-align: middle;\n    }\n\n    .dataframe tbody tr th {\n        vertical-align: top;\n    }\n\n    .dataframe thead th {\n        text-align: right;\n    }\n</style>\n<table border=\"1\" class=\"dataframe\">\n  <thead>\n    <tr style=\"text-align: right;\">\n      <th></th>\n      <th>query_id</th>\n      <th>Irrelevant</th>\n      <th>Partial</th>\n      <th>Exact</th>\n      <th>Unknown</th>\n    </tr>\n  </thead>\n  <tbody>\n    <tr>\n      <th>0</th>\n      <td>0</td>\n      <td>1.0</td>\n      <td>8.0</td>\n      <td>6.0</td>\n      <td>0.0</td>\n    </tr>\n    <tr>\n      <th>1</th>\n      <td>1</td>\n      <td>1.0</td>\n      <td>14.0</td>\n      <td>0.0</td>\n      <td>0.0</td>\n    </tr>\n    <tr>\n      <th>2</th>\n      <td>2</td>\n      <td>0.0</td>\n      <td>0.0</td>\n      <td>15.0</td>\n      <td>0.0</td>\n    </tr>\n    <tr>\n      <th>3</th>\n      <td>3</td>\n      <td>3.0</td>\n      <td>5.0</td>\n      <td>7.0</td>\n      <td>0.0</td>\n    </tr>\n    <tr>\n      <th>4</th>\n      <td>4</td>\n      <td>0.0</td>\n      <td>7.0</td>\n      <td>0.0</td>\n      <td>8.0</td>\n    </tr>\n    <tr>\n      <th>...</th>\n      <td>...</td>\n      <td>...</td>\n      <td>...</td>\n      <td>...</td>\n      <td>...</td>\n    </tr>\n    <tr>\n      <th>469</th>\n      <td>483</td>\n      <td>0.0</td>\n      <td>14.0</td>\n      <td>1.0</td>\n      <td>0.0</td>\n    </tr>\n    <tr>\n      <th>470</th>\n      <td>484</td>\n      <td>0.0</td>\n      <td>15.0</td>\n      <td>0.0</td>\n      <td>0.0</td>\n    </tr>\n    <tr>\n      <th>471</th>\n      <td>485</td>\n      <td>6.0</td>\n      <td>3.0</td>\n      <td>0.0</td>\n      <td>6.0</td>\n    </tr>\n    <tr>\n      <th>472</th>\n      <td>486</td>\n      <td>0.0</td>\n      <td>8.0</td>\n      <td>0.0</td>\n      <td>7.0</td>\n    </tr>\n    <tr>\n      <th>473</th>\n      <td>487</td>\n      <td>1.0</td>\n      <td>0.0</td>\n      <td>0.0</td>\n      <td>14.0</td>\n    </tr>\n  </tbody>\n</table>\n<p>474 rows × 5 columns</p>\n</div>"
     },
     "execution_count": 159,
     "metadata": {},
     "output_type": "execute_result"
    }
   ],
   "source": [
    "res_vector_title_descr = pd.DataFrame(res_vector_title_descr.tolist())\n",
    "res_vector_title_descr = res_vector_title_descr.fillna(0)\n",
    "res_vector_title_descr[\"query_id\"] = query_df[\"query_id\"].astype(int)\n",
    "res_vector_title_descr = res_vector_title_descr[[\"query_id\",\"Irrelevant\",\"Partial\",\"Exact\",\"Unknown\"]]\n",
    "res_vector_title_descr"
   ],
   "metadata": {
    "collapsed": false,
    "ExecuteTime": {
     "end_time": "2023-12-28T00:46:55.053286900Z",
     "start_time": "2023-12-28T00:46:55.045762600Z"
    }
   },
   "id": "1ec15cfdf74ba21d"
  },
  {
   "cell_type": "code",
   "execution_count": 160,
   "outputs": [
    {
     "data": {
      "text/plain": "         query_id  Irrelevant     Partial       Exact     Unknown\ncount  474.000000  474.000000  474.000000  474.000000  474.000000\nmean   243.069620    0.491561    6.717300    4.710970    3.080169\nstd    142.112294    1.449988    5.410841    5.489834    4.304222\nmin      0.000000    0.000000    0.000000    0.000000    0.000000\n25%    118.250000    0.000000    1.000000    0.000000    0.000000\n50%    246.500000    0.000000    6.000000    2.000000    1.000000\n75%    366.750000    0.000000   12.000000   10.000000    5.000000\nmax    487.000000   14.000000   15.000000   15.000000   15.000000",
      "text/html": "<div>\n<style scoped>\n    .dataframe tbody tr th:only-of-type {\n        vertical-align: middle;\n    }\n\n    .dataframe tbody tr th {\n        vertical-align: top;\n    }\n\n    .dataframe thead th {\n        text-align: right;\n    }\n</style>\n<table border=\"1\" class=\"dataframe\">\n  <thead>\n    <tr style=\"text-align: right;\">\n      <th></th>\n      <th>query_id</th>\n      <th>Irrelevant</th>\n      <th>Partial</th>\n      <th>Exact</th>\n      <th>Unknown</th>\n    </tr>\n  </thead>\n  <tbody>\n    <tr>\n      <th>count</th>\n      <td>474.000000</td>\n      <td>474.000000</td>\n      <td>474.000000</td>\n      <td>474.000000</td>\n      <td>474.000000</td>\n    </tr>\n    <tr>\n      <th>mean</th>\n      <td>243.069620</td>\n      <td>0.491561</td>\n      <td>6.717300</td>\n      <td>4.710970</td>\n      <td>3.080169</td>\n    </tr>\n    <tr>\n      <th>std</th>\n      <td>142.112294</td>\n      <td>1.449988</td>\n      <td>5.410841</td>\n      <td>5.489834</td>\n      <td>4.304222</td>\n    </tr>\n    <tr>\n      <th>min</th>\n      <td>0.000000</td>\n      <td>0.000000</td>\n      <td>0.000000</td>\n      <td>0.000000</td>\n      <td>0.000000</td>\n    </tr>\n    <tr>\n      <th>25%</th>\n      <td>118.250000</td>\n      <td>0.000000</td>\n      <td>1.000000</td>\n      <td>0.000000</td>\n      <td>0.000000</td>\n    </tr>\n    <tr>\n      <th>50%</th>\n      <td>246.500000</td>\n      <td>0.000000</td>\n      <td>6.000000</td>\n      <td>2.000000</td>\n      <td>1.000000</td>\n    </tr>\n    <tr>\n      <th>75%</th>\n      <td>366.750000</td>\n      <td>0.000000</td>\n      <td>12.000000</td>\n      <td>10.000000</td>\n      <td>5.000000</td>\n    </tr>\n    <tr>\n      <th>max</th>\n      <td>487.000000</td>\n      <td>14.000000</td>\n      <td>15.000000</td>\n      <td>15.000000</td>\n      <td>15.000000</td>\n    </tr>\n  </tbody>\n</table>\n</div>"
     },
     "execution_count": 160,
     "metadata": {},
     "output_type": "execute_result"
    }
   ],
   "source": [
    "res_vector_title_descr.describe()"
   ],
   "metadata": {
    "collapsed": false,
    "ExecuteTime": {
     "end_time": "2023-12-28T00:46:58.267865800Z",
     "start_time": "2023-12-28T00:46:58.234620900Z"
    }
   },
   "id": "e498060385302de8"
  },
  {
   "cell_type": "code",
   "execution_count": 130,
   "outputs": [
    {
     "data": {
      "text/plain": "<Figure size 1000x600 with 1 Axes>",
      "image/png": "[encoded data removed]"
     },
     "metadata": {},
     "output_type": "display_data"
    }
   ],
   "source": [
    "label_names = ['Irrelevant', 'Partial', 'Exact', \"Unknown\"]\n",
    "color_palette = ['blue', 'orange', 'green', \"red\"]\n",
    "\n",
    "plot(res_vector_title_descr, label_names, label_names, color_palette)"
   ],
   "metadata": {
    "collapsed": false,
    "ExecuteTime": {
     "end_time": "2023-12-27T19:48:25.505182900Z",
     "start_time": "2023-12-27T19:48:25.182235500Z"
    }
   },
   "id": "d2fc34970cbd3f70"
  },
  {
   "cell_type": "code",
   "execution_count": 161,
   "outputs": [
    {
     "name": "stdout",
     "output_type": "stream",
     "text": [
      "VECTOR SEARCH - TITLE + DESCRIPTION\n",
      "Task was to retrieve TOP 15 products for each query\n",
      "--- --- --- \n",
      "Irrelevant:  233.0 / 7110.0  =  0.03277074542897328\n",
      "Partial:  3184.0 / 7110.0  =  0.4478199718706048\n",
      "Exact:  2233.0 / 7110.0  =  0.3140646976090014\n",
      "Unknown:  1460.0 / 7110.0  =  0.20534458509142053\n",
      "ALL:  7110.0 / 7110  =  1.0\n",
      "--- without Unknown ---\n",
      "Irrelevant:  233.0 / 5650.0  =  0.04123893805309734\n",
      "Partial:  3184.0 / 5650.0  =  0.5635398230088495\n",
      "Exact:  2233.0 / 5650.0  =  0.3952212389380531\n"
     ]
    }
   ],
   "source": [
    "# ALL \n",
    "irrelevant_sum = res_vector_title_descr[\"Irrelevant\"].sum()\n",
    "partial_sum = res_vector_title_descr[\"Partial\"].sum()\n",
    "exact_sum = res_vector_title_descr[\"Exact\"].sum()\n",
    "unknown_sum = res_vector_title_descr[\"Unknown\"].sum()\n",
    "sum_all = irrelevant_sum + partial_sum + exact_sum + unknown_sum\n",
    "\n",
    "# Irrelevant\n",
    "print(\"VECTOR SEARCH - TITLE + DESCRIPTION\")\n",
    "print(\"Task was to retrieve TOP 15 products for each query\")\n",
    "print(\"--- --- --- \")\n",
    "print(\"Irrelevant: \", irrelevant_sum, \"/\", sum_all, \" = \", irrelevant_sum/sum_all)\n",
    "print(\"Partial: \", partial_sum, \"/\", sum_all, \" = \", partial_sum/sum_all)\n",
    "print(\"Exact: \", exact_sum, \"/\", sum_all, \" = \", exact_sum/sum_all)\n",
    "print(\"Unknown: \", unknown_sum, \"/\", sum_all, \" = \", unknown_sum/sum_all)\n",
    "print(\"ALL: \", sum_all, \"/\", query_df.shape[0] * top_k, \" = \", sum_all/(query_df.shape[0] * top_k))\n",
    "print(\"--- without Unknown ---\")\n",
    "print(\"Irrelevant: \", irrelevant_sum, \"/\", sum_all - unknown_sum, \" = \", irrelevant_sum/(sum_all - unknown_sum))\n",
    "print(\"Partial: \", partial_sum, \"/\", sum_all - unknown_sum, \" = \", partial_sum/(sum_all - unknown_sum))\n",
    "print(\"Exact: \", exact_sum, \"/\", sum_all - unknown_sum, \" = \", exact_sum/(sum_all - unknown_sum))"
   ],
   "metadata": {
    "collapsed": false,
    "ExecuteTime": {
     "end_time": "2023-12-28T00:47:02.891873300Z",
     "start_time": "2023-12-28T00:47:02.867314200Z"
    }
   },
   "id": "dde2aa71c842da90"
  },
  {
   "cell_type": "markdown",
   "source": [
    "---"
   ],
   "metadata": {
    "collapsed": false
   },
   "id": "7432fab34a14752f"
  },
  {
   "cell_type": "markdown",
   "source": [
    "#### Classic"
   ],
   "metadata": {
    "collapsed": false
   },
   "id": "bda94b9f5f24ad30"
  },
  {
   "cell_type": "code",
   "execution_count": 92,
   "outputs": [
    {
     "data": {
      "text/plain": "query_id                 78\nquery          dorel vanity\nquery_class        Vanities\nName: 78, dtype: object"
     },
     "execution_count": 92,
     "metadata": {},
     "output_type": "execute_result"
    }
   ],
   "source": [
    "query_df.iloc[78]"
   ],
   "metadata": {
    "collapsed": false,
    "ExecuteTime": {
     "end_time": "2023-12-27T19:32:31.574768100Z",
     "start_time": "2023-12-27T19:32:31.515795700Z"
    }
   },
   "id": "8fc86b6567f73d89"
  },
  {
   "cell_type": "code",
   "execution_count": 134,
   "outputs": [
    {
     "name": "stderr",
     "output_type": "stream",
     "text": [
      " 17%|█▋        | 81/474 [00:02<00:09, 39.33it/s]"
     ]
    },
    {
     "name": "stdout",
     "output_type": "stream",
     "text": [
      "No results for query in classic search:  sancroft armchair\n"
     ]
    },
    {
     "name": "stderr",
     "output_type": "stream",
     "text": [
      " 20%|█▉        | 94/474 [00:02<00:10, 34.71it/s]"
     ]
    },
    {
     "name": "stdout",
     "output_type": "stream",
     "text": [
      "No results for query in classic search:  vlad modular sectional\n",
      "No results for query in classic search:  filaret outdoor sofa\n"
     ]
    },
    {
     "name": "stderr",
     "output_type": "stream",
     "text": [
      " 41%|████      | 195/474 [00:06<00:08, 32.61it/s]"
     ]
    },
    {
     "name": "stdout",
     "output_type": "stream",
     "text": [
      "No results for query in classic search:  biycicle plant stands\n",
      "No results for query in classic search:  chabely 5 draw chest\n"
     ]
    },
    {
     "name": "stderr",
     "output_type": "stream",
     "text": [
      " 44%|████▎     | 207/474 [00:06<00:09, 28.03it/s]"
     ]
    },
    {
     "name": "stdout",
     "output_type": "stream",
     "text": [
      "No results for query in classic search:  fawkes 36\" blue vanity\n"
     ]
    },
    {
     "name": "stderr",
     "output_type": "stream",
     "text": [
      " 56%|█████▋    | 267/474 [00:08<00:06, 34.49it/s]"
     ]
    },
    {
     "name": "stdout",
     "output_type": "stream",
     "text": [
      "No results for query in classic search:  donaldson teak couch\n"
     ]
    },
    {
     "name": "stderr",
     "output_type": "stream",
     "text": [
      " 59%|█████▉    | 281/474 [00:08<00:05, 37.32it/s]"
     ]
    },
    {
     "name": "stdout",
     "output_type": "stream",
     "text": [
      "No results for query in classic search:  48\" sliding single track , barn door for laundry\n"
     ]
    },
    {
     "name": "stderr",
     "output_type": "stream",
     "text": [
      " 76%|███████▌  | 359/474 [00:10<00:03, 36.99it/s]"
     ]
    },
    {
     "name": "stdout",
     "output_type": "stream",
     "text": [
      "No results for query in classic search:  drudge report\n"
     ]
    },
    {
     "name": "stderr",
     "output_type": "stream",
     "text": [
      " 78%|███████▊  | 372/474 [00:11<00:02, 36.23it/s]"
     ]
    },
    {
     "name": "stdout",
     "output_type": "stream",
     "text": [
      "No results for query in classic search:  cliffside 5 light candle style drum chandelier\n"
     ]
    },
    {
     "name": "stderr",
     "output_type": "stream",
     "text": [
      " 83%|████████▎ | 392/474 [00:11<00:02, 36.68it/s]"
     ]
    },
    {
     "name": "stdout",
     "output_type": "stream",
     "text": [
      "No results for query in classic search:  maryford queen tufted bed\n"
     ]
    },
    {
     "name": "stderr",
     "output_type": "stream",
     "text": [
      " 96%|█████████▌| 453/474 [00:13<00:00, 37.72it/s]"
     ]
    },
    {
     "name": "stdout",
     "output_type": "stream",
     "text": [
      "No results for query in classic search:  tye dye duvet cover\n"
     ]
    },
    {
     "name": "stderr",
     "output_type": "stream",
     "text": [
      "100%|██████████| 474/474 [00:14<00:00, 33.73it/s]"
     ]
    },
    {
     "name": "stdout",
     "output_type": "stream",
     "text": [
      "No results for query in classic search:  pedistole sink\n"
     ]
    },
    {
     "name": "stderr",
     "output_type": "stream",
     "text": [
      "\n"
     ]
    }
   ],
   "source": [
    "res_classic_title_descr = query_df[\"query_id\"].progress_apply(lambda q_id: count_labels(*classic_search(q_id, top_k=top_k, fields=(\"name\", \"description\"))))"
   ],
   "metadata": {
    "collapsed": false,
    "ExecuteTime": {
     "end_time": "2023-12-27T19:49:42.952117500Z",
     "start_time": "2023-12-27T19:49:28.883794100Z"
    }
   },
   "id": "40b2362f2685542d"
  },
  {
   "cell_type": "code",
   "execution_count": 135,
   "outputs": [],
   "source": [
    "res_classic_title_descr = pd.DataFrame(res_classic_title_descr.tolist())\n",
    "res_classic_title_descr = res_classic_title_descr.fillna(0)\n",
    "res_classic_title_descr[\"query_id\"] = query_df[\"query_id\"].astype(int)\n",
    "res_classic_title_descr = res_classic_title_descr[[\n",
    "    \"query_id\",\n",
    "    \"Irrelevant\",\n",
    "    \"Partial\",\n",
    "    \"Exact\",\n",
    "    \"Unknown\"\n",
    "]]"
   ],
   "metadata": {
    "collapsed": false,
    "ExecuteTime": {
     "end_time": "2023-12-27T19:49:51.441215900Z",
     "start_time": "2023-12-27T19:49:51.411304700Z"
    }
   },
   "id": "3c13f60bd455ca4a"
  },
  {
   "cell_type": "code",
   "execution_count": 136,
   "outputs": [
    {
     "data": {
      "text/plain": "<Figure size 1000x600 with 1 Axes>",
      "image/png": "[encoded data removed]"
     },
     "metadata": {},
     "output_type": "display_data"
    }
   ],
   "source": [
    "columns_to_plot = ['Irrelevant', 'Partial', 'Exact']\n",
    "label_names = ['Irrelevant', 'Partial', 'Exact']\n",
    "color_palette = ['blue', 'orange', 'green']\n",
    "\n",
    "plot(res_classic_title_descr, columns_to_plot, label_names, color_palette)"
   ],
   "metadata": {
    "collapsed": false,
    "ExecuteTime": {
     "end_time": "2023-12-27T19:49:59.977082600Z",
     "start_time": "2023-12-27T19:49:59.661352900Z"
    }
   },
   "id": "c645ab1142758649"
  },
  {
   "cell_type": "code",
   "execution_count": 151,
   "outputs": [
    {
     "name": "stdout",
     "output_type": "stream",
     "text": [
      "CLASSIC SEARCH - TITLE + DESCRIPTION\n",
      "Task was to retrieve TOP 15 products for each query\n",
      "Missing results:  5763.0 / 7110  =  0.8105485232067511\n",
      "--- --- --- \n",
      "Irrelevant:  791.0 / 5763.0  =  0.13725490196078433\n",
      "Partial:  1244.0 / 5763.0  =  0.21585979524553184\n",
      "Exact:  1925.0 / 5763.0  =  0.334027416276245\n",
      "Unknown:  1803.0 / 5763.0  =  0.31285788651743884\n",
      "--- without Unknown ---\n",
      "Irrelevant:  791.0 / 3960.0  =  0.19974747474747476\n",
      "Partial:  1244.0 / 3960.0  =  0.31414141414141417\n",
      "Exact:  1925.0 / 3960.0  =  0.4861111111111111\n"
     ]
    }
   ],
   "source": [
    "# ALL \n",
    "irrelevant_sum = res_classic_title_descr[\"Irrelevant\"].sum()\n",
    "partial_sum = res_classic_title_descr[\"Partial\"].sum()\n",
    "exact_sum = res_classic_title_descr[\"Exact\"].sum()\n",
    "unknown_sum = res_classic_title_descr[\"Unknown\"].sum()\n",
    "sum_all = irrelevant_sum + partial_sum + exact_sum + unknown_sum\n",
    "\n",
    "# Irrelevant\n",
    "print(\"CLASSIC SEARCH - TITLE + DESCRIPTION\")\n",
    "print(\"Task was to retrieve TOP 15 products for each query\")\n",
    "print(\"Missing results: \", sum_all, \"/\", query_df.shape[0] * top_k, \" = \", sum_all/(query_df.shape[0] * top_k))\n",
    "print(\"--- --- --- \")\n",
    "print(\"Irrelevant: \", irrelevant_sum, \"/\", sum_all, \" = \", irrelevant_sum/sum_all)\n",
    "print(\"Partial: \", partial_sum, \"/\", sum_all, \" = \", partial_sum/sum_all)\n",
    "print(\"Exact: \", exact_sum, \"/\", sum_all, \" = \", exact_sum/sum_all)\n",
    "print(\"Unknown: \", unknown_sum, \"/\", sum_all, \" = \", unknown_sum/sum_all)\n",
    "print(\"--- without Unknown ---\")\n",
    "print(\"Irrelevant: \", irrelevant_sum, \"/\", sum_all - unknown_sum, \" = \", irrelevant_sum/(sum_all - unknown_sum))\n",
    "print(\"Partial: \", partial_sum, \"/\", sum_all - unknown_sum, \" = \", partial_sum/(sum_all - unknown_sum))\n",
    "print(\"Exact: \", exact_sum, \"/\", sum_all - unknown_sum, \" = \", exact_sum/(sum_all - unknown_sum))"
   ],
   "metadata": {
    "collapsed": false,
    "ExecuteTime": {
     "end_time": "2023-12-28T00:34:48.972280400Z",
     "start_time": "2023-12-28T00:34:48.959265Z"
    }
   },
   "id": "cbb137d6e3369317"
  },
  {
   "cell_type": "markdown",
   "source": [
    "## Search with only Title"
   ],
   "metadata": {
    "collapsed": false
   },
   "id": "9fcd2fc50268a7b6"
  },
  {
   "cell_type": "markdown",
   "source": [
    "#### Vector"
   ],
   "metadata": {
    "collapsed": false
   },
   "id": "325ec9c35c9b1867"
  },
  {
   "cell_type": "code",
   "execution_count": 153,
   "outputs": [
    {
     "name": "stderr",
     "output_type": "stream",
     "text": [
      "100%|██████████| 474/474 [00:22<00:00, 20.88it/s]\n"
     ]
    },
    {
     "data": {
      "text/plain": "0      {'Partial': 9, 'Exact': 5, 'Irrelevant': 1, 'q...\n1             {'Partial': 13, 'Exact': 2, 'query_id': 1}\n2      {'Exact': 13, 'Partial': 1, 'Irrelevant': 1, '...\n3      {'Partial': 8, 'Exact': 6, 'Unknown': 1, 'quer...\n4      {'Partial': 9, 'Unknown': 4, 'Irrelevant': 1, ...\n                             ...                        \n469                     {'Partial': 15, 'query_id': 483}\n470                     {'Partial': 15, 'query_id': 484}\n471    {'Unknown': 6, 'Partial': 6, 'Irrelevant': 3, ...\n472       {'Partial': 10, 'Unknown': 5, 'query_id': 486}\n473       {'Unknown': 14, 'Partial': 1, 'query_id': 487}\nName: query_id, Length: 474, dtype: object"
     },
     "execution_count": 153,
     "metadata": {},
     "output_type": "execute_result"
    }
   ],
   "source": [
    "res_vector_title = query_df[\"query_id\"].progress_apply(lambda q_id: count_labels(*search_vector(q_id, search_field=\"title\", top_k=top_k)))\n",
    "res_vector_title"
   ],
   "metadata": {
    "collapsed": false,
    "ExecuteTime": {
     "end_time": "2023-12-28T00:44:49.295331Z",
     "start_time": "2023-12-28T00:44:26.553925100Z"
    }
   },
   "id": "2fb6f80c55c32899"
  },
  {
   "cell_type": "code",
   "execution_count": 154,
   "outputs": [
    {
     "data": {
      "text/plain": "     query_id  Irrelevant  Partial  Exact  Unknown\n0           0         1.0      9.0    5.0      0.0\n1           1         0.0     13.0    2.0      0.0\n2           2         1.0      1.0   13.0      0.0\n3           3         0.0      8.0    6.0      1.0\n4           4         1.0      9.0    1.0      4.0\n..        ...         ...      ...    ...      ...\n469       483         0.0     15.0    0.0      0.0\n470       484         0.0     15.0    0.0      0.0\n471       485         3.0      6.0    0.0      6.0\n472       486         0.0     10.0    0.0      5.0\n473       487         0.0      1.0    0.0     14.0\n\n[474 rows x 5 columns]",
      "text/html": "<div>\n<style scoped>\n    .dataframe tbody tr th:only-of-type {\n        vertical-align: middle;\n    }\n\n    .dataframe tbody tr th {\n        vertical-align: top;\n    }\n\n    .dataframe thead th {\n        text-align: right;\n    }\n</style>\n<table border=\"1\" class=\"dataframe\">\n  <thead>\n    <tr style=\"text-align: right;\">\n      <th></th>\n      <th>query_id</th>\n      <th>Irrelevant</th>\n      <th>Partial</th>\n      <th>Exact</th>\n      <th>Unknown</th>\n    </tr>\n  </thead>\n  <tbody>\n    <tr>\n      <th>0</th>\n      <td>0</td>\n      <td>1.0</td>\n      <td>9.0</td>\n      <td>5.0</td>\n      <td>0.0</td>\n    </tr>\n    <tr>\n      <th>1</th>\n      <td>1</td>\n      <td>0.0</td>\n      <td>13.0</td>\n      <td>2.0</td>\n      <td>0.0</td>\n    </tr>\n    <tr>\n      <th>2</th>\n      <td>2</td>\n      <td>1.0</td>\n      <td>1.0</td>\n      <td>13.0</td>\n      <td>0.0</td>\n    </tr>\n    <tr>\n      <th>3</th>\n      <td>3</td>\n      <td>0.0</td>\n      <td>8.0</td>\n      <td>6.0</td>\n      <td>1.0</td>\n    </tr>\n    <tr>\n      <th>4</th>\n      <td>4</td>\n      <td>1.0</td>\n      <td>9.0</td>\n      <td>1.0</td>\n      <td>4.0</td>\n    </tr>\n    <tr>\n      <th>...</th>\n      <td>...</td>\n      <td>...</td>\n      <td>...</td>\n      <td>...</td>\n      <td>...</td>\n    </tr>\n    <tr>\n      <th>469</th>\n      <td>483</td>\n      <td>0.0</td>\n      <td>15.0</td>\n      <td>0.0</td>\n      <td>0.0</td>\n    </tr>\n    <tr>\n      <th>470</th>\n      <td>484</td>\n      <td>0.0</td>\n      <td>15.0</td>\n      <td>0.0</td>\n      <td>0.0</td>\n    </tr>\n    <tr>\n      <th>471</th>\n      <td>485</td>\n      <td>3.0</td>\n      <td>6.0</td>\n      <td>0.0</td>\n      <td>6.0</td>\n    </tr>\n    <tr>\n      <th>472</th>\n      <td>486</td>\n      <td>0.0</td>\n      <td>10.0</td>\n      <td>0.0</td>\n      <td>5.0</td>\n    </tr>\n    <tr>\n      <th>473</th>\n      <td>487</td>\n      <td>0.0</td>\n      <td>1.0</td>\n      <td>0.0</td>\n      <td>14.0</td>\n    </tr>\n  </tbody>\n</table>\n<p>474 rows × 5 columns</p>\n</div>"
     },
     "execution_count": 154,
     "metadata": {},
     "output_type": "execute_result"
    }
   ],
   "source": [
    "res_vector_title = pd.DataFrame(res_vector_title.tolist())\n",
    "res_vector_title = res_vector_title.fillna(0)\n",
    "res_vector_title[\"query_id\"] = query_df[\"query_id\"].astype(int)\n",
    "res_vector_title = res_vector_title[[\"query_id\",\"Irrelevant\",\"Partial\",\"Exact\",\"Unknown\"]]\n",
    "res_vector_title"
   ],
   "metadata": {
    "collapsed": false,
    "ExecuteTime": {
     "end_time": "2023-12-28T00:44:49.356449100Z",
     "start_time": "2023-12-28T00:44:49.293329700Z"
    }
   },
   "id": "a854026aa8a9d9e3"
  },
  {
   "cell_type": "code",
   "execution_count": 155,
   "outputs": [
    {
     "data": {
      "text/plain": "         query_id  Irrelevant     Partial      Exact     Unknown\ncount  474.000000  474.000000  474.000000  474.00000  474.000000\nmean   243.069620    0.550633    7.508439    4.50000    2.445148\nstd    142.112294    1.547886    5.528031    5.44946    4.103078\nmin      0.000000    0.000000    0.000000    0.00000    0.000000\n25%    118.250000    0.000000    2.000000    0.00000    0.000000\n50%    246.500000    0.000000    8.000000    1.00000    0.000000\n75%    366.750000    0.000000   13.000000    9.00000    3.000000\nmax    487.000000   15.000000   15.000000   15.00000   15.000000",
      "text/html": "<div>\n<style scoped>\n    .dataframe tbody tr th:only-of-type {\n        vertical-align: middle;\n    }\n\n    .dataframe tbody tr th {\n        vertical-align: top;\n    }\n\n    .dataframe thead th {\n        text-align: right;\n    }\n</style>\n<table border=\"1\" class=\"dataframe\">\n  <thead>\n    <tr style=\"text-align: right;\">\n      <th></th>\n      <th>query_id</th>\n      <th>Irrelevant</th>\n      <th>Partial</th>\n      <th>Exact</th>\n      <th>Unknown</th>\n    </tr>\n  </thead>\n  <tbody>\n    <tr>\n      <th>count</th>\n      <td>474.000000</td>\n      <td>474.000000</td>\n      <td>474.000000</td>\n      <td>474.00000</td>\n      <td>474.000000</td>\n    </tr>\n    <tr>\n      <th>mean</th>\n      <td>243.069620</td>\n      <td>0.550633</td>\n      <td>7.508439</td>\n      <td>4.50000</td>\n      <td>2.445148</td>\n    </tr>\n    <tr>\n      <th>std</th>\n      <td>142.112294</td>\n      <td>1.547886</td>\n      <td>5.528031</td>\n      <td>5.44946</td>\n      <td>4.103078</td>\n    </tr>\n    <tr>\n      <th>min</th>\n      <td>0.000000</td>\n      <td>0.000000</td>\n      <td>0.000000</td>\n      <td>0.00000</td>\n      <td>0.000000</td>\n    </tr>\n    <tr>\n      <th>25%</th>\n      <td>118.250000</td>\n      <td>0.000000</td>\n      <td>2.000000</td>\n      <td>0.00000</td>\n      <td>0.000000</td>\n    </tr>\n    <tr>\n      <th>50%</th>\n      <td>246.500000</td>\n      <td>0.000000</td>\n      <td>8.000000</td>\n      <td>1.00000</td>\n      <td>0.000000</td>\n    </tr>\n    <tr>\n      <th>75%</th>\n      <td>366.750000</td>\n      <td>0.000000</td>\n      <td>13.000000</td>\n      <td>9.00000</td>\n      <td>3.000000</td>\n    </tr>\n    <tr>\n      <th>max</th>\n      <td>487.000000</td>\n      <td>15.000000</td>\n      <td>15.000000</td>\n      <td>15.00000</td>\n      <td>15.000000</td>\n    </tr>\n  </tbody>\n</table>\n</div>"
     },
     "execution_count": 155,
     "metadata": {},
     "output_type": "execute_result"
    }
   ],
   "source": [
    "res_vector_title.describe()"
   ],
   "metadata": {
    "collapsed": false,
    "ExecuteTime": {
     "end_time": "2023-12-28T00:44:49.406179200Z",
     "start_time": "2023-12-28T00:44:49.339654800Z"
    }
   },
   "id": "57a0aa7bdf9547da"
  },
  {
   "cell_type": "code",
   "execution_count": 144,
   "outputs": [
    {
     "data": {
      "text/plain": "<Figure size 1000x600 with 1 Axes>",
      "image/png": "[encoded data removed]"
     },
     "metadata": {},
     "output_type": "display_data"
    }
   ],
   "source": [
    "label_names = ['Irrelevant', 'Partial', 'Exact', \"Unknown\"]\n",
    "color_palette = ['blue', 'orange', 'green', \"red\"]\n",
    "\n",
    "plot(res_vector_title, label_names, label_names, color_palette)"
   ],
   "metadata": {
    "collapsed": false,
    "ExecuteTime": {
     "end_time": "2023-12-27T19:54:08.187122200Z",
     "start_time": "2023-12-27T19:54:07.862834400Z"
    }
   },
   "id": "2179a94e4aea4ceb"
  },
  {
   "cell_type": "code",
   "execution_count": 157,
   "outputs": [
    {
     "name": "stdout",
     "output_type": "stream",
     "text": [
      "VECTOR SEARCH - TITLE\n",
      "Task was to retrieve TOP 15 products for each query\n",
      "--- --- --- \n",
      "Irrelevant:  261.0 / 7112.0  =  0.036698537682789655\n",
      "Partial:  3559.0 / 7112.0  =  0.500421822272216\n",
      "Exact:  2133.0 / 7112.0  =  0.2999156355455568\n",
      "Unknown:  1159.0 / 7112.0  =  0.16296400449943757\n",
      "ALL:  7112.0 / 7110  =  1.0002812939521801\n",
      "--- without Unknown ---\n",
      "Irrelevant:  261.0 / 5953.0  =  0.04384344028221065\n",
      "Partial:  3559.0 / 5953.0  =  0.5978498236183437\n",
      "Exact:  2133.0 / 5953.0  =  0.35830673609944563\n"
     ]
    }
   ],
   "source": [
    "# ALL \n",
    "irrelevant_sum = res_vector_title[\"Irrelevant\"].sum()\n",
    "partial_sum = res_vector_title[\"Partial\"].sum()\n",
    "exact_sum = res_vector_title[\"Exact\"].sum()\n",
    "unknown_sum = res_vector_title[\"Unknown\"].sum()\n",
    "sum_all = irrelevant_sum + partial_sum + exact_sum + unknown_sum\n",
    "\n",
    "# Irrelevant\n",
    "print(\"VECTOR SEARCH - TITLE\")\n",
    "print(\"Task was to retrieve TOP 15 products for each query\")\n",
    "print(\"--- --- --- \")\n",
    "print(\"Irrelevant: \", irrelevant_sum, \"/\", sum_all, \" = \", irrelevant_sum/sum_all)\n",
    "print(\"Partial: \", partial_sum, \"/\", sum_all, \" = \", partial_sum/sum_all)\n",
    "print(\"Exact: \", exact_sum, \"/\", sum_all, \" = \", exact_sum/sum_all)\n",
    "print(\"Unknown: \", unknown_sum, \"/\", sum_all, \" = \", unknown_sum/sum_all)\n",
    "print(\"ALL: \", sum_all, \"/\", query_df.shape[0] * top_k, \" = \", sum_all/(query_df.shape[0] * top_k))\n",
    "print(\"--- without Unknown ---\")\n",
    "print(\"Irrelevant: \", irrelevant_sum, \"/\", sum_all - unknown_sum, \" = \", irrelevant_sum/(sum_all - unknown_sum))\n",
    "print(\"Partial: \", partial_sum, \"/\", sum_all - unknown_sum, \" = \", partial_sum/(sum_all - unknown_sum))\n",
    "print(\"Exact: \", exact_sum, \"/\", sum_all - unknown_sum, \" = \", exact_sum/(sum_all - unknown_sum))"
   ],
   "metadata": {
    "collapsed": false,
    "ExecuteTime": {
     "end_time": "2023-12-28T00:45:16.966866400Z",
     "start_time": "2023-12-28T00:45:16.952801600Z"
    }
   },
   "id": "9dfc674075b2670f"
  },
  {
   "cell_type": "markdown",
   "source": [
    "---"
   ],
   "metadata": {
    "collapsed": false
   },
   "id": "48735c0c7558bbc3"
  },
  {
   "cell_type": "markdown",
   "source": [
    "#### Classic"
   ],
   "metadata": {
    "collapsed": false
   },
   "id": "79f2b336fc954f80"
  },
  {
   "cell_type": "code",
   "execution_count": 162,
   "outputs": [
    {
     "name": "stderr",
     "output_type": "stream",
     "text": [
      "  5%|▌         | 25/474 [00:00<00:10, 41.12it/s]"
     ]
    },
    {
     "name": "stdout",
     "output_type": "stream",
     "text": [
      "No results for query in classic search:  blk 18x18 seat cushions\n",
      "No results for query in classic search:  foutains with brick look\n"
     ]
    },
    {
     "name": "stderr",
     "output_type": "stream",
     "text": [
      " 18%|█▊        | 85/474 [00:02<00:08, 47.00it/s]"
     ]
    },
    {
     "name": "stdout",
     "output_type": "stream",
     "text": [
      "No results for query in classic search:  sancroft armchair\n",
      "No results for query in classic search:  vlad modular sectional\n"
     ]
    },
    {
     "name": "stderr",
     "output_type": "stream",
     "text": [
      " 20%|██        | 95/474 [00:02<00:08, 43.36it/s]"
     ]
    },
    {
     "name": "stdout",
     "output_type": "stream",
     "text": [
      "No results for query in classic search:  filaret outdoor sofa\n"
     ]
    },
    {
     "name": "stderr",
     "output_type": "stream",
     "text": [
      " 34%|███▍      | 160/474 [00:03<00:07, 42.01it/s]"
     ]
    },
    {
     "name": "stdout",
     "output_type": "stream",
     "text": [
      "No results for query in classic search:  wishbone chair\n"
     ]
    },
    {
     "name": "stderr",
     "output_type": "stream",
     "text": [
      " 37%|███▋      | 175/474 [00:04<00:07, 42.52it/s]"
     ]
    },
    {
     "name": "stdout",
     "output_type": "stream",
     "text": [
      "No results for query in classic search:  nectar queen mattress\n"
     ]
    },
    {
     "name": "stderr",
     "output_type": "stream",
     "text": [
      " 42%|████▏     | 197/474 [00:04<00:05, 47.55it/s]"
     ]
    },
    {
     "name": "stdout",
     "output_type": "stream",
     "text": [
      "No results for query in classic search:  biycicle plant stands\n",
      "No results for query in classic search:  chabely 5 draw chest\n"
     ]
    },
    {
     "name": "stderr",
     "output_type": "stream",
     "text": [
      " 45%|████▍     | 212/474 [00:05<00:05, 45.18it/s]"
     ]
    },
    {
     "name": "stdout",
     "output_type": "stream",
     "text": [
      "No results for query in classic search:  fawkes 36\" blue vanity\n"
     ]
    },
    {
     "name": "stderr",
     "output_type": "stream",
     "text": [
      " 57%|█████▋    | 268/474 [00:06<00:04, 45.99it/s]"
     ]
    },
    {
     "name": "stdout",
     "output_type": "stream",
     "text": [
      "No results for query in classic search:  donaldson teak couch\n"
     ]
    },
    {
     "name": "stderr",
     "output_type": "stream",
     "text": [
      " 60%|█████▉    | 284/474 [00:06<00:04, 46.03it/s]"
     ]
    },
    {
     "name": "stdout",
     "output_type": "stream",
     "text": [
      "No results for query in classic search:  48\" sliding single track , barn door for laundry\n"
     ]
    },
    {
     "name": "stderr",
     "output_type": "stream",
     "text": [
      " 71%|███████   | 335/474 [00:07<00:02, 49.13it/s]"
     ]
    },
    {
     "name": "stdout",
     "output_type": "stream",
     "text": [
      "No results for query in classic search:  iittala bowl\n"
     ]
    },
    {
     "name": "stderr",
     "output_type": "stream",
     "text": [
      " 76%|███████▌  | 361/474 [00:08<00:02, 48.78it/s]"
     ]
    },
    {
     "name": "stdout",
     "output_type": "stream",
     "text": [
      "No results for query in classic search:  drudge report\n",
      "No results for query in classic search:  togo chair\n"
     ]
    },
    {
     "name": "stderr",
     "output_type": "stream",
     "text": [
      " 79%|███████▉  | 376/474 [00:08<00:02, 44.98it/s]"
     ]
    },
    {
     "name": "stdout",
     "output_type": "stream",
     "text": [
      "No results for query in classic search:  cliffside 5 light candle style drum chandelier\n"
     ]
    },
    {
     "name": "stderr",
     "output_type": "stream",
     "text": [
      " 84%|████████▎ | 396/474 [00:09<00:01, 45.93it/s]"
     ]
    },
    {
     "name": "stdout",
     "output_type": "stream",
     "text": [
      "No results for query in classic search:  maryford queen tufted bed\n"
     ]
    },
    {
     "name": "stderr",
     "output_type": "stream",
     "text": [
      " 95%|█████████▌| 451/474 [00:10<00:00, 41.66it/s]"
     ]
    },
    {
     "name": "stdout",
     "output_type": "stream",
     "text": [
      "No results for query in classic search:  tye dye duvet cover\n"
     ]
    },
    {
     "name": "stderr",
     "output_type": "stream",
     "text": [
      "100%|██████████| 474/474 [00:10<00:00, 43.23it/s]"
     ]
    },
    {
     "name": "stdout",
     "output_type": "stream",
     "text": [
      "No results for query in classic search:  pedistole sink\n"
     ]
    },
    {
     "name": "stderr",
     "output_type": "stream",
     "text": [
      "\n"
     ]
    }
   ],
   "source": [
    "res_classic_title = query_df[\"query_id\"].progress_apply(lambda q_id: count_labels(*classic_search(q_id, top_k=top_k, fields=(\"name\", ))))"
   ],
   "metadata": {
    "collapsed": false,
    "ExecuteTime": {
     "end_time": "2023-12-28T00:51:26.289359700Z",
     "start_time": "2023-12-28T00:51:15.302847100Z"
    }
   },
   "id": "4e1f98afcf35e868"
  },
  {
   "cell_type": "code",
   "execution_count": 164,
   "outputs": [],
   "source": [
    "res_classic_title = pd.DataFrame(res_classic_title.tolist())\n",
    "res_classic_title = res_classic_title.fillna(0)\n",
    "res_classic_title[\"query_id\"] = query_df[\"query_id\"].astype(int)\n",
    "res_classic_title = res_classic_title[[\n",
    "    \"query_id\",\n",
    "    \"Irrelevant\",\n",
    "    \"Partial\",\n",
    "    \"Exact\",\n",
    "    \"Unknown\"\n",
    "]]"
   ],
   "metadata": {
    "collapsed": false,
    "ExecuteTime": {
     "end_time": "2023-12-28T00:51:51.307538100Z",
     "start_time": "2023-12-28T00:51:51.288032600Z"
    }
   },
   "id": "d999a468422ed217"
  },
  {
   "cell_type": "code",
   "execution_count": 148,
   "outputs": [
    {
     "data": {
      "text/plain": "<Figure size 1000x600 with 1 Axes>",
      "image/png": "[encoded data removed]"
     },
     "metadata": {},
     "output_type": "display_data"
    }
   ],
   "source": [
    "columns_to_plot = ['Irrelevant', 'Partial', 'Exact']\n",
    "label_names = ['Irrelevant', 'Partial', 'Exact']\n",
    "color_palette = ['blue', 'orange', 'green']\n",
    "\n",
    "plot(res_classic_title, columns_to_plot, label_names, color_palette)"
   ],
   "metadata": {
    "collapsed": false,
    "ExecuteTime": {
     "end_time": "2023-12-27T19:55:34.750570900Z",
     "start_time": "2023-12-27T19:55:34.431592600Z"
    }
   },
   "id": "6ddcb07006ff7c70"
  },
  {
   "cell_type": "code",
   "execution_count": 166,
   "outputs": [
    {
     "name": "stdout",
     "output_type": "stream",
     "text": [
      "CLASSIC SEARCH - TITLE\n",
      "Task was to retrieve TOP 15 products for each query\n",
      "Missing results:  5763.0 / 7110  =  0.8105485232067511\n",
      "--- --- --- \n",
      "Irrelevant:  791.0 / 5763.0  =  0.13725490196078433\n",
      "Partial:  1244.0 / 5763.0  =  0.21585979524553184\n",
      "Exact:  1925.0 / 5763.0  =  0.334027416276245\n",
      "Unknown:  1803.0 / 5763.0  =  0.31285788651743884\n",
      "--- without Unknown ---\n",
      "Irrelevant:  791.0 / 3960.0  =  0.19974747474747476\n",
      "Partial:  1244.0 / 3960.0  =  0.31414141414141417\n",
      "Exact:  1925.0 / 3960.0  =  0.4861111111111111\n"
     ]
    }
   ],
   "source": [
    "# ALL \n",
    "irrelevant_sum = res_classic_title[\"Irrelevant\"].sum()\n",
    "partial_sum = res_classic_title[\"Partial\"].sum()\n",
    "exact_sum = res_classic_title[\"Exact\"].sum()\n",
    "unknown_sum = res_classic_title[\"Unknown\"].sum()\n",
    "sum_all = irrelevant_sum + partial_sum + exact_sum + unknown_sum\n",
    "\n",
    "# Irrelevant\n",
    "print(\"CLASSIC SEARCH - TITLE\")\n",
    "print(\"Task was to retrieve TOP 15 products for each query\")\n",
    "print(\"Missing results: \", sum_all, \"/\", query_df.shape[0] * top_k, \" = \", sum_all/(query_df.shape[0] * top_k))\n",
    "print(\"--- --- --- \")\n",
    "print(\"Irrelevant: \", irrelevant_sum, \"/\", sum_all, \" = \", irrelevant_sum/sum_all)\n",
    "print(\"Partial: \", partial_sum, \"/\", sum_all, \" = \", partial_sum/sum_all)\n",
    "print(\"Exact: \", exact_sum, \"/\", sum_all, \" = \", exact_sum/sum_all)\n",
    "print(\"Unknown: \", unknown_sum, \"/\", sum_all, \" = \", unknown_sum/sum_all)\n",
    "print(\"--- without Unknown ---\")\n",
    "print(\"Irrelevant: \", irrelevant_sum, \"/\", sum_all - unknown_sum, \" = \", irrelevant_sum/(sum_all - unknown_sum))\n",
    "print(\"Partial: \", partial_sum, \"/\", sum_all - unknown_sum, \" = \", partial_sum/(sum_all - unknown_sum))\n",
    "print(\"Exact: \", exact_sum, \"/\", sum_all - unknown_sum, \" = \", exact_sum/(sum_all - unknown_sum))"
   ],
   "metadata": {
    "collapsed": false,
    "ExecuteTime": {
     "end_time": "2023-12-28T00:52:12.642930Z",
     "start_time": "2023-12-28T00:52:12.554580700Z"
    }
   },
   "id": "4128631a945cf7e1"
  }
 ],
 "metadata": {
  "kernelspec": {
   "display_name": "Python 3",
   "language": "python",
   "name": "python3"
  },
  "language_info": {
   "codemirror_mode": {
    "name": "ipython",
    "version": 2
   },
   "file_extension": ".py",
   "mimetype": "text/x-python",
   "name": "python",
   "nbconvert_exporter": "python",
   "pygments_lexer": "ipython2",
   "version": "2.7.6"
  }
 },
 "nbformat": 4,
 "nbformat_minor": 5
}
